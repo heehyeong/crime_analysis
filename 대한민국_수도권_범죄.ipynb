{
  "cells": [
    {
      "cell_type": "markdown",
      "metadata": {
        "id": "view-in-github",
        "colab_type": "text"
      },
      "source": [
        "<a href=\"https://colab.research.google.com/github/heehyeong/crime_analysis/blob/main/%EB%8C%80%ED%95%9C%EB%AF%BC%EA%B5%AD_%EC%88%98%EB%8F%84%EA%B6%8C_%EB%B2%94%EC%A3%84.ipynb\" target=\"_parent\"><img src=\"https://colab.research.google.com/assets/colab-badge.svg\" alt=\"Open In Colab\"/></a>"
      ]
    },
    {
      "cell_type": "markdown",
      "id": "f568d907",
      "metadata": {
        "id": "f568d907"
      },
      "source": [
        "# 1) 데이터 전처리"
      ]
    },
    {
      "cell_type": "markdown",
      "id": "ed7701f7",
      "metadata": {
        "id": "ed7701f7"
      },
      "source": [
        "   ### 1-1. 데이터 불러오기"
      ]
    },
    {
      "cell_type": "code",
      "execution_count": null,
      "id": "e5b9fd6a",
      "metadata": {
        "id": "e5b9fd6a",
        "outputId": "835f5aa0-7887-4d4b-e8cd-8ae82aec5358"
      },
      "outputs": [
        {
          "data": {
            "text/plain": [
              "<Figure size 864x216 with 0 Axes>"
            ]
          },
          "execution_count": 1,
          "metadata": {},
          "output_type": "execute_result"
        },
        {
          "data": {
            "text/plain": [
              "<Figure size 864x216 with 0 Axes>"
            ]
          },
          "metadata": {},
          "output_type": "display_data"
        }
      ],
      "source": [
        "#라이브러리 임포트\n",
        "import pandas as pd\n",
        "import matplotlib.pyplot as plt\n",
        "import seaborn as sns\n",
        "\n",
        "#데이터셋 사용\n",
        "basic = pd.read_csv('C:/Users/Hyoung/Downloads/complete.csv', thousands=',', encoding='cp949', index_col=0)\n",
        "basic= basic.drop(['Unnamed: 11', 'Unnamed: 12', 'Unnamed: 13'], axis=1)\n",
        "\n",
        "#그래프 사이즈 설정\n",
        "plt.figure(figsize=(12, 3))"
      ]
    },
    {
      "cell_type": "code",
      "execution_count": null,
      "id": "a547e139",
      "metadata": {
        "id": "a547e139",
        "outputId": "22bd30c2-c68b-4729-c124-ecd406e57cdf"
      },
      "outputs": [
        {
          "data": {
            "text/html": [
              "<div>\n",
              "<style scoped>\n",
              "    .dataframe tbody tr th:only-of-type {\n",
              "        vertical-align: middle;\n",
              "    }\n",
              "\n",
              "    .dataframe tbody tr th {\n",
              "        vertical-align: top;\n",
              "    }\n",
              "\n",
              "    .dataframe thead th {\n",
              "        text-align: right;\n",
              "    }\n",
              "</style>\n",
              "<table border=\"1\" class=\"dataframe\">\n",
              "  <thead>\n",
              "    <tr style=\"text-align: right;\">\n",
              "      <th></th>\n",
              "      <th>OPH</th>\n",
              "      <th>police station</th>\n",
              "      <th>cctv</th>\n",
              "      <th>population</th>\n",
              "      <th>park</th>\n",
              "      <th>elementary school</th>\n",
              "      <th>foreigner</th>\n",
              "      <th>streetlight</th>\n",
              "      <th>per capita income</th>\n",
              "      <th>crime</th>\n",
              "    </tr>\n",
              "    <tr>\n",
              "      <th>district&amp;city</th>\n",
              "      <th></th>\n",
              "      <th></th>\n",
              "      <th></th>\n",
              "      <th></th>\n",
              "      <th></th>\n",
              "      <th></th>\n",
              "      <th></th>\n",
              "      <th></th>\n",
              "      <th></th>\n",
              "      <th></th>\n",
              "    </tr>\n",
              "  </thead>\n",
              "  <tbody>\n",
              "    <tr>\n",
              "      <th>종로구</th>\n",
              "      <td>25983</td>\n",
              "      <td>24</td>\n",
              "      <td>1715</td>\n",
              "      <td>145312</td>\n",
              "      <td>105</td>\n",
              "      <td>13</td>\n",
              "      <td>9409</td>\n",
              "      <td>8818</td>\n",
              "      <td>48705</td>\n",
              "      <td>3343</td>\n",
              "    </tr>\n",
              "    <tr>\n",
              "      <th>중구</th>\n",
              "      <td>22818</td>\n",
              "      <td>20</td>\n",
              "      <td>2447</td>\n",
              "      <td>122858</td>\n",
              "      <td>75</td>\n",
              "      <td>12</td>\n",
              "      <td>9277</td>\n",
              "      <td>8550</td>\n",
              "      <td>46203</td>\n",
              "      <td>3411</td>\n",
              "    </tr>\n",
              "    <tr>\n",
              "      <th>용산구</th>\n",
              "      <td>36881</td>\n",
              "      <td>13</td>\n",
              "      <td>2611</td>\n",
              "      <td>224145</td>\n",
              "      <td>108</td>\n",
              "      <td>15</td>\n",
              "      <td>14349</td>\n",
              "      <td>7838</td>\n",
              "      <td>62704</td>\n",
              "      <td>2969</td>\n",
              "    </tr>\n",
              "    <tr>\n",
              "      <th>성동구</th>\n",
              "      <td>42585</td>\n",
              "      <td>16</td>\n",
              "      <td>3829</td>\n",
              "      <td>287820</td>\n",
              "      <td>87</td>\n",
              "      <td>21</td>\n",
              "      <td>6536</td>\n",
              "      <td>6266</td>\n",
              "      <td>46164</td>\n",
              "      <td>2362</td>\n",
              "    </tr>\n",
              "    <tr>\n",
              "      <th>광진구</th>\n",
              "      <td>62301</td>\n",
              "      <td>13</td>\n",
              "      <td>3211</td>\n",
              "      <td>341112</td>\n",
              "      <td>63</td>\n",
              "      <td>22</td>\n",
              "      <td>12403</td>\n",
              "      <td>4908</td>\n",
              "      <td>37735</td>\n",
              "      <td>3601</td>\n",
              "    </tr>\n",
              "  </tbody>\n",
              "</table>\n",
              "</div>"
            ],
            "text/plain": [
              "                 OPH  police station  cctv  population  park  \\\n",
              "district&city                                                  \n",
              "종로구            25983              24  1715      145312   105   \n",
              "중구             22818              20  2447      122858    75   \n",
              "용산구            36881              13  2611      224145   108   \n",
              "성동구            42585              16  3829      287820    87   \n",
              "광진구            62301              13  3211      341112    63   \n",
              "\n",
              "               elementary school  foreigner  streetlight  per capita income  \\\n",
              "district&city                                                                 \n",
              "종로구                           13       9409         8818              48705   \n",
              "중구                            12       9277         8550              46203   \n",
              "용산구                           15      14349         7838              62704   \n",
              "성동구                           21       6536         6266              46164   \n",
              "광진구                           22      12403         4908              37735   \n",
              "\n",
              "               crime  \n",
              "district&city         \n",
              "종로구             3343  \n",
              "중구              3411  \n",
              "용산구             2969  \n",
              "성동구             2362  \n",
              "광진구             3601  "
            ]
          },
          "execution_count": 2,
          "metadata": {},
          "output_type": "execute_result"
        }
      ],
      "source": [
        "basic.head()"
      ]
    },
    {
      "cell_type": "markdown",
      "id": "e833f3e6",
      "metadata": {
        "id": "e833f3e6"
      },
      "source": [
        "### 1-2. 이상치 제거하기"
      ]
    },
    {
      "cell_type": "code",
      "execution_count": null,
      "id": "40e9e211",
      "metadata": {
        "id": "40e9e211"
      },
      "outputs": [],
      "source": [
        "#이상치 찾는 함수\n",
        "def calculerror(object):\n",
        "    global basic\n",
        "    q1= basic[object].quantile(0.25)\n",
        "    q2= basic[object].quantile(0.5)\n",
        "    q3= basic[object].quantile(0.75)\n",
        "    iqr= q3-q1\n",
        "\n",
        "    condition= basic[object]<q1-1.5*iqr\n",
        "    condition= basic[object]>q3+1.5*iqr\n",
        "\n",
        "    return basic[condition]"
      ]
    },
    {
      "cell_type": "code",
      "execution_count": null,
      "id": "589ef824",
      "metadata": {
        "id": "589ef824",
        "outputId": "7e92a2a1-4960-4952-bef6-e5e117e3dbe1"
      },
      "outputs": [
        {
          "data": {
            "text/html": [
              "<div>\n",
              "<style scoped>\n",
              "    .dataframe tbody tr th:only-of-type {\n",
              "        vertical-align: middle;\n",
              "    }\n",
              "\n",
              "    .dataframe tbody tr th {\n",
              "        vertical-align: top;\n",
              "    }\n",
              "\n",
              "    .dataframe thead th {\n",
              "        text-align: right;\n",
              "    }\n",
              "</style>\n",
              "<table border=\"1\" class=\"dataframe\">\n",
              "  <thead>\n",
              "    <tr style=\"text-align: right;\">\n",
              "      <th></th>\n",
              "      <th>OPH</th>\n",
              "      <th>police station</th>\n",
              "      <th>cctv</th>\n",
              "      <th>population</th>\n",
              "      <th>park</th>\n",
              "      <th>elementary school</th>\n",
              "      <th>foreigner</th>\n",
              "      <th>streetlight</th>\n",
              "      <th>per capita income</th>\n",
              "      <th>crime</th>\n",
              "    </tr>\n",
              "    <tr>\n",
              "      <th>district&amp;city</th>\n",
              "      <th></th>\n",
              "      <th></th>\n",
              "      <th></th>\n",
              "      <th></th>\n",
              "      <th></th>\n",
              "      <th></th>\n",
              "      <th></th>\n",
              "      <th></th>\n",
              "      <th></th>\n",
              "      <th></th>\n",
              "    </tr>\n",
              "  </thead>\n",
              "  <tbody>\n",
              "    <tr>\n",
              "      <th>고양시</th>\n",
              "      <td>156505</td>\n",
              "      <td>19</td>\n",
              "      <td>6448</td>\n",
              "      <td>1080787</td>\n",
              "      <td>260</td>\n",
              "      <td>87</td>\n",
              "      <td>11522</td>\n",
              "      <td>35387</td>\n",
              "      <td>38882</td>\n",
              "      <td>27043</td>\n",
              "    </tr>\n",
              "    <tr>\n",
              "      <th>성남시</th>\n",
              "      <td>155774</td>\n",
              "      <td>25</td>\n",
              "      <td>5296</td>\n",
              "      <td>931760</td>\n",
              "      <td>194</td>\n",
              "      <td>72</td>\n",
              "      <td>15184</td>\n",
              "      <td>19808</td>\n",
              "      <td>47955</td>\n",
              "      <td>27066</td>\n",
              "    </tr>\n",
              "    <tr>\n",
              "      <th>수원시</th>\n",
              "      <td>199051</td>\n",
              "      <td>26</td>\n",
              "      <td>11354</td>\n",
              "      <td>1184754</td>\n",
              "      <td>146</td>\n",
              "      <td>99</td>\n",
              "      <td>35835</td>\n",
              "      <td>28775</td>\n",
              "      <td>41535</td>\n",
              "      <td>40659</td>\n",
              "    </tr>\n",
              "  </tbody>\n",
              "</table>\n",
              "</div>"
            ],
            "text/plain": [
              "                  OPH  police station   cctv  population  park  \\\n",
              "district&city                                                    \n",
              "고양시            156505              19   6448     1080787   260   \n",
              "성남시            155774              25   5296      931760   194   \n",
              "수원시            199051              26  11354     1184754   146   \n",
              "\n",
              "               elementary school  foreigner  streetlight  per capita income  \\\n",
              "district&city                                                                 \n",
              "고양시                           87      11522        35387              38882   \n",
              "성남시                           72      15184        19808              47955   \n",
              "수원시                           99      35835        28775              41535   \n",
              "\n",
              "               crime  \n",
              "district&city         \n",
              "고양시            27043  \n",
              "성남시            27066  \n",
              "수원시            40659  "
            ]
          },
          "execution_count": 4,
          "metadata": {},
          "output_type": "execute_result"
        }
      ],
      "source": [
        "calculerror('OPH')"
      ]
    },
    {
      "cell_type": "code",
      "execution_count": null,
      "id": "660c42e7",
      "metadata": {
        "id": "660c42e7",
        "outputId": "bdb6744e-bedc-47b3-8c59-e754ca799c87"
      },
      "outputs": [
        {
          "data": {
            "text/html": [
              "<div>\n",
              "<style scoped>\n",
              "    .dataframe tbody tr th:only-of-type {\n",
              "        vertical-align: middle;\n",
              "    }\n",
              "\n",
              "    .dataframe tbody tr th {\n",
              "        vertical-align: top;\n",
              "    }\n",
              "\n",
              "    .dataframe thead th {\n",
              "        text-align: right;\n",
              "    }\n",
              "</style>\n",
              "<table border=\"1\" class=\"dataframe\">\n",
              "  <thead>\n",
              "    <tr style=\"text-align: right;\">\n",
              "      <th></th>\n",
              "      <th>OPH</th>\n",
              "      <th>police station</th>\n",
              "      <th>cctv</th>\n",
              "      <th>population</th>\n",
              "      <th>park</th>\n",
              "      <th>elementary school</th>\n",
              "      <th>foreigner</th>\n",
              "      <th>streetlight</th>\n",
              "      <th>per capita income</th>\n",
              "      <th>crime</th>\n",
              "    </tr>\n",
              "    <tr>\n",
              "      <th>district&amp;city</th>\n",
              "      <th></th>\n",
              "      <th></th>\n",
              "      <th></th>\n",
              "      <th></th>\n",
              "      <th></th>\n",
              "      <th></th>\n",
              "      <th></th>\n",
              "      <th></th>\n",
              "      <th></th>\n",
              "      <th></th>\n",
              "    </tr>\n",
              "  </thead>\n",
              "  <tbody>\n",
              "  </tbody>\n",
              "</table>\n",
              "</div>"
            ],
            "text/plain": [
              "Empty DataFrame\n",
              "Columns: [OPH, police station, cctv, population, park, elementary school, foreigner, streetlight, per capita income, crime]\n",
              "Index: []"
            ]
          },
          "execution_count": 5,
          "metadata": {},
          "output_type": "execute_result"
        }
      ],
      "source": [
        "calculerror('police station')"
      ]
    },
    {
      "cell_type": "code",
      "execution_count": null,
      "id": "e4b105c1",
      "metadata": {
        "id": "e4b105c1",
        "outputId": "0e9ced43-4e73-4f99-b242-0e5bddcc8ba8"
      },
      "outputs": [
        {
          "data": {
            "text/html": [
              "<div>\n",
              "<style scoped>\n",
              "    .dataframe tbody tr th:only-of-type {\n",
              "        vertical-align: middle;\n",
              "    }\n",
              "\n",
              "    .dataframe tbody tr th {\n",
              "        vertical-align: top;\n",
              "    }\n",
              "\n",
              "    .dataframe thead th {\n",
              "        text-align: right;\n",
              "    }\n",
              "</style>\n",
              "<table border=\"1\" class=\"dataframe\">\n",
              "  <thead>\n",
              "    <tr style=\"text-align: right;\">\n",
              "      <th></th>\n",
              "      <th>OPH</th>\n",
              "      <th>police station</th>\n",
              "      <th>cctv</th>\n",
              "      <th>population</th>\n",
              "      <th>park</th>\n",
              "      <th>elementary school</th>\n",
              "      <th>foreigner</th>\n",
              "      <th>streetlight</th>\n",
              "      <th>per capita income</th>\n",
              "      <th>crime</th>\n",
              "    </tr>\n",
              "    <tr>\n",
              "      <th>district&amp;city</th>\n",
              "      <th></th>\n",
              "      <th></th>\n",
              "      <th></th>\n",
              "      <th></th>\n",
              "      <th></th>\n",
              "      <th></th>\n",
              "      <th></th>\n",
              "      <th></th>\n",
              "      <th></th>\n",
              "      <th></th>\n",
              "    </tr>\n",
              "  </thead>\n",
              "  <tbody>\n",
              "    <tr>\n",
              "      <th>수원시</th>\n",
              "      <td>199051</td>\n",
              "      <td>26</td>\n",
              "      <td>11354</td>\n",
              "      <td>1184754</td>\n",
              "      <td>146</td>\n",
              "      <td>99</td>\n",
              "      <td>35835</td>\n",
              "      <td>28775</td>\n",
              "      <td>41535</td>\n",
              "      <td>40659</td>\n",
              "    </tr>\n",
              "    <tr>\n",
              "      <th>용인시</th>\n",
              "      <td>130135</td>\n",
              "      <td>21</td>\n",
              "      <td>8483</td>\n",
              "      <td>1080027</td>\n",
              "      <td>329</td>\n",
              "      <td>105</td>\n",
              "      <td>16731</td>\n",
              "      <td>26665</td>\n",
              "      <td>45556</td>\n",
              "      <td>21502</td>\n",
              "    </tr>\n",
              "  </tbody>\n",
              "</table>\n",
              "</div>"
            ],
            "text/plain": [
              "                  OPH  police station   cctv  population  park  \\\n",
              "district&city                                                    \n",
              "수원시            199051              26  11354     1184754   146   \n",
              "용인시            130135              21   8483     1080027   329   \n",
              "\n",
              "               elementary school  foreigner  streetlight  per capita income  \\\n",
              "district&city                                                                 \n",
              "수원시                           99      35835        28775              41535   \n",
              "용인시                          105      16731        26665              45556   \n",
              "\n",
              "               crime  \n",
              "district&city         \n",
              "수원시            40659  \n",
              "용인시            21502  "
            ]
          },
          "execution_count": 6,
          "metadata": {},
          "output_type": "execute_result"
        }
      ],
      "source": [
        "calculerror('cctv')"
      ]
    },
    {
      "cell_type": "code",
      "execution_count": null,
      "id": "9be5f51e",
      "metadata": {
        "id": "9be5f51e",
        "outputId": "5b0727b2-a04c-4ef1-982a-98d811ba71ed"
      },
      "outputs": [
        {
          "data": {
            "text/html": [
              "<div>\n",
              "<style scoped>\n",
              "    .dataframe tbody tr th:only-of-type {\n",
              "        vertical-align: middle;\n",
              "    }\n",
              "\n",
              "    .dataframe tbody tr th {\n",
              "        vertical-align: top;\n",
              "    }\n",
              "\n",
              "    .dataframe thead th {\n",
              "        text-align: right;\n",
              "    }\n",
              "</style>\n",
              "<table border=\"1\" class=\"dataframe\">\n",
              "  <thead>\n",
              "    <tr style=\"text-align: right;\">\n",
              "      <th></th>\n",
              "      <th>OPH</th>\n",
              "      <th>police station</th>\n",
              "      <th>cctv</th>\n",
              "      <th>population</th>\n",
              "      <th>park</th>\n",
              "      <th>elementary school</th>\n",
              "      <th>foreigner</th>\n",
              "      <th>streetlight</th>\n",
              "      <th>per capita income</th>\n",
              "      <th>crime</th>\n",
              "    </tr>\n",
              "    <tr>\n",
              "      <th>district&amp;city</th>\n",
              "      <th></th>\n",
              "      <th></th>\n",
              "      <th></th>\n",
              "      <th></th>\n",
              "      <th></th>\n",
              "      <th></th>\n",
              "      <th></th>\n",
              "      <th></th>\n",
              "      <th></th>\n",
              "      <th></th>\n",
              "    </tr>\n",
              "  </thead>\n",
              "  <tbody>\n",
              "    <tr>\n",
              "      <th>고양시</th>\n",
              "      <td>156505</td>\n",
              "      <td>19</td>\n",
              "      <td>6448</td>\n",
              "      <td>1080787</td>\n",
              "      <td>260</td>\n",
              "      <td>87</td>\n",
              "      <td>11522</td>\n",
              "      <td>35387</td>\n",
              "      <td>38882</td>\n",
              "      <td>27043</td>\n",
              "    </tr>\n",
              "    <tr>\n",
              "      <th>수원시</th>\n",
              "      <td>199051</td>\n",
              "      <td>26</td>\n",
              "      <td>11354</td>\n",
              "      <td>1184754</td>\n",
              "      <td>146</td>\n",
              "      <td>99</td>\n",
              "      <td>35835</td>\n",
              "      <td>28775</td>\n",
              "      <td>41535</td>\n",
              "      <td>40659</td>\n",
              "    </tr>\n",
              "    <tr>\n",
              "      <th>용인시</th>\n",
              "      <td>130135</td>\n",
              "      <td>21</td>\n",
              "      <td>8483</td>\n",
              "      <td>1080027</td>\n",
              "      <td>329</td>\n",
              "      <td>105</td>\n",
              "      <td>16731</td>\n",
              "      <td>26665</td>\n",
              "      <td>45556</td>\n",
              "      <td>21502</td>\n",
              "    </tr>\n",
              "  </tbody>\n",
              "</table>\n",
              "</div>"
            ],
            "text/plain": [
              "                  OPH  police station   cctv  population  park  \\\n",
              "district&city                                                    \n",
              "고양시            156505              19   6448     1080787   260   \n",
              "수원시            199051              26  11354     1184754   146   \n",
              "용인시            130135              21   8483     1080027   329   \n",
              "\n",
              "               elementary school  foreigner  streetlight  per capita income  \\\n",
              "district&city                                                                 \n",
              "고양시                           87      11522        35387              38882   \n",
              "수원시                           99      35835        28775              41535   \n",
              "용인시                          105      16731        26665              45556   \n",
              "\n",
              "               crime  \n",
              "district&city         \n",
              "고양시            27043  \n",
              "수원시            40659  \n",
              "용인시            21502  "
            ]
          },
          "execution_count": 7,
          "metadata": {},
          "output_type": "execute_result"
        }
      ],
      "source": [
        "calculerror('population')"
      ]
    },
    {
      "cell_type": "code",
      "execution_count": null,
      "id": "628466a1",
      "metadata": {
        "id": "628466a1",
        "outputId": "b1ede940-6682-41f5-def7-eec4b14fcbaa"
      },
      "outputs": [
        {
          "data": {
            "text/html": [
              "<div>\n",
              "<style scoped>\n",
              "    .dataframe tbody tr th:only-of-type {\n",
              "        vertical-align: middle;\n",
              "    }\n",
              "\n",
              "    .dataframe tbody tr th {\n",
              "        vertical-align: top;\n",
              "    }\n",
              "\n",
              "    .dataframe thead th {\n",
              "        text-align: right;\n",
              "    }\n",
              "</style>\n",
              "<table border=\"1\" class=\"dataframe\">\n",
              "  <thead>\n",
              "    <tr style=\"text-align: right;\">\n",
              "      <th></th>\n",
              "      <th>OPH</th>\n",
              "      <th>police station</th>\n",
              "      <th>cctv</th>\n",
              "      <th>population</th>\n",
              "      <th>park</th>\n",
              "      <th>elementary school</th>\n",
              "      <th>foreigner</th>\n",
              "      <th>streetlight</th>\n",
              "      <th>per capita income</th>\n",
              "      <th>crime</th>\n",
              "    </tr>\n",
              "    <tr>\n",
              "      <th>district&amp;city</th>\n",
              "      <th></th>\n",
              "      <th></th>\n",
              "      <th></th>\n",
              "      <th></th>\n",
              "      <th></th>\n",
              "      <th></th>\n",
              "      <th></th>\n",
              "      <th></th>\n",
              "      <th></th>\n",
              "      <th></th>\n",
              "    </tr>\n",
              "  </thead>\n",
              "  <tbody>\n",
              "    <tr>\n",
              "      <th>용인시</th>\n",
              "      <td>130135</td>\n",
              "      <td>21</td>\n",
              "      <td>8483</td>\n",
              "      <td>1080027</td>\n",
              "      <td>329</td>\n",
              "      <td>105</td>\n",
              "      <td>16731</td>\n",
              "      <td>26665</td>\n",
              "      <td>45556</td>\n",
              "      <td>21502</td>\n",
              "    </tr>\n",
              "    <tr>\n",
              "      <th>평택시</th>\n",
              "      <td>110014</td>\n",
              "      <td>16</td>\n",
              "      <td>5271</td>\n",
              "      <td>557450</td>\n",
              "      <td>298</td>\n",
              "      <td>65</td>\n",
              "      <td>23168</td>\n",
              "      <td>21888</td>\n",
              "      <td>36172</td>\n",
              "      <td>25466</td>\n",
              "    </tr>\n",
              "    <tr>\n",
              "      <th>화성시</th>\n",
              "      <td>134248</td>\n",
              "      <td>18</td>\n",
              "      <td>7276</td>\n",
              "      <td>878879</td>\n",
              "      <td>440</td>\n",
              "      <td>98</td>\n",
              "      <td>37636</td>\n",
              "      <td>12990</td>\n",
              "      <td>43172</td>\n",
              "      <td>21374</td>\n",
              "    </tr>\n",
              "  </tbody>\n",
              "</table>\n",
              "</div>"
            ],
            "text/plain": [
              "                  OPH  police station  cctv  population  park  \\\n",
              "district&city                                                   \n",
              "용인시            130135              21  8483     1080027   329   \n",
              "평택시            110014              16  5271      557450   298   \n",
              "화성시            134248              18  7276      878879   440   \n",
              "\n",
              "               elementary school  foreigner  streetlight  per capita income  \\\n",
              "district&city                                                                 \n",
              "용인시                          105      16731        26665              45556   \n",
              "평택시                           65      23168        21888              36172   \n",
              "화성시                           98      37636        12990              43172   \n",
              "\n",
              "               crime  \n",
              "district&city         \n",
              "용인시            21502  \n",
              "평택시            25466  \n",
              "화성시            21374  "
            ]
          },
          "execution_count": 8,
          "metadata": {},
          "output_type": "execute_result"
        }
      ],
      "source": [
        "calculerror('park')"
      ]
    },
    {
      "cell_type": "code",
      "execution_count": null,
      "id": "d10ab2b1",
      "metadata": {
        "id": "d10ab2b1",
        "outputId": "8005282b-a276-4ef0-9260-fcc1a09d1bf7"
      },
      "outputs": [
        {
          "data": {
            "text/html": [
              "<div>\n",
              "<style scoped>\n",
              "    .dataframe tbody tr th:only-of-type {\n",
              "        vertical-align: middle;\n",
              "    }\n",
              "\n",
              "    .dataframe tbody tr th {\n",
              "        vertical-align: top;\n",
              "    }\n",
              "\n",
              "    .dataframe thead th {\n",
              "        text-align: right;\n",
              "    }\n",
              "</style>\n",
              "<table border=\"1\" class=\"dataframe\">\n",
              "  <thead>\n",
              "    <tr style=\"text-align: right;\">\n",
              "      <th></th>\n",
              "      <th>OPH</th>\n",
              "      <th>police station</th>\n",
              "      <th>cctv</th>\n",
              "      <th>population</th>\n",
              "      <th>park</th>\n",
              "      <th>elementary school</th>\n",
              "      <th>foreigner</th>\n",
              "      <th>streetlight</th>\n",
              "      <th>per capita income</th>\n",
              "      <th>crime</th>\n",
              "    </tr>\n",
              "    <tr>\n",
              "      <th>district&amp;city</th>\n",
              "      <th></th>\n",
              "      <th></th>\n",
              "      <th></th>\n",
              "      <th></th>\n",
              "      <th></th>\n",
              "      <th></th>\n",
              "      <th></th>\n",
              "      <th></th>\n",
              "      <th></th>\n",
              "      <th></th>\n",
              "    </tr>\n",
              "  </thead>\n",
              "  <tbody>\n",
              "    <tr>\n",
              "      <th>고양시</th>\n",
              "      <td>156505</td>\n",
              "      <td>19</td>\n",
              "      <td>6448</td>\n",
              "      <td>1080787</td>\n",
              "      <td>260</td>\n",
              "      <td>87</td>\n",
              "      <td>11522</td>\n",
              "      <td>35387</td>\n",
              "      <td>38882</td>\n",
              "      <td>27043</td>\n",
              "    </tr>\n",
              "    <tr>\n",
              "      <th>성남시</th>\n",
              "      <td>155774</td>\n",
              "      <td>25</td>\n",
              "      <td>5296</td>\n",
              "      <td>931760</td>\n",
              "      <td>194</td>\n",
              "      <td>72</td>\n",
              "      <td>15184</td>\n",
              "      <td>19808</td>\n",
              "      <td>47955</td>\n",
              "      <td>27066</td>\n",
              "    </tr>\n",
              "    <tr>\n",
              "      <th>수원시</th>\n",
              "      <td>199051</td>\n",
              "      <td>26</td>\n",
              "      <td>11354</td>\n",
              "      <td>1184754</td>\n",
              "      <td>146</td>\n",
              "      <td>99</td>\n",
              "      <td>35835</td>\n",
              "      <td>28775</td>\n",
              "      <td>41535</td>\n",
              "      <td>40659</td>\n",
              "    </tr>\n",
              "    <tr>\n",
              "      <th>용인시</th>\n",
              "      <td>130135</td>\n",
              "      <td>21</td>\n",
              "      <td>8483</td>\n",
              "      <td>1080027</td>\n",
              "      <td>329</td>\n",
              "      <td>105</td>\n",
              "      <td>16731</td>\n",
              "      <td>26665</td>\n",
              "      <td>45556</td>\n",
              "      <td>21502</td>\n",
              "    </tr>\n",
              "    <tr>\n",
              "      <th>화성시</th>\n",
              "      <td>134248</td>\n",
              "      <td>18</td>\n",
              "      <td>7276</td>\n",
              "      <td>878879</td>\n",
              "      <td>440</td>\n",
              "      <td>98</td>\n",
              "      <td>37636</td>\n",
              "      <td>12990</td>\n",
              "      <td>43172</td>\n",
              "      <td>21374</td>\n",
              "    </tr>\n",
              "  </tbody>\n",
              "</table>\n",
              "</div>"
            ],
            "text/plain": [
              "                  OPH  police station   cctv  population  park  \\\n",
              "district&city                                                    \n",
              "고양시            156505              19   6448     1080787   260   \n",
              "성남시            155774              25   5296      931760   194   \n",
              "수원시            199051              26  11354     1184754   146   \n",
              "용인시            130135              21   8483     1080027   329   \n",
              "화성시            134248              18   7276      878879   440   \n",
              "\n",
              "               elementary school  foreigner  streetlight  per capita income  \\\n",
              "district&city                                                                 \n",
              "고양시                           87      11522        35387              38882   \n",
              "성남시                           72      15184        19808              47955   \n",
              "수원시                           99      35835        28775              41535   \n",
              "용인시                          105      16731        26665              45556   \n",
              "화성시                           98      37636        12990              43172   \n",
              "\n",
              "               crime  \n",
              "district&city         \n",
              "고양시            27043  \n",
              "성남시            27066  \n",
              "수원시            40659  \n",
              "용인시            21502  \n",
              "화성시            21374  "
            ]
          },
          "execution_count": 9,
          "metadata": {},
          "output_type": "execute_result"
        }
      ],
      "source": [
        "calculerror('elementary school')"
      ]
    },
    {
      "cell_type": "code",
      "execution_count": null,
      "id": "4e0d51ef",
      "metadata": {
        "id": "4e0d51ef",
        "outputId": "9c87f2e6-d934-47fc-ae5f-9ce1e08eaefd"
      },
      "outputs": [
        {
          "data": {
            "text/html": [
              "<div>\n",
              "<style scoped>\n",
              "    .dataframe tbody tr th:only-of-type {\n",
              "        vertical-align: middle;\n",
              "    }\n",
              "\n",
              "    .dataframe tbody tr th {\n",
              "        vertical-align: top;\n",
              "    }\n",
              "\n",
              "    .dataframe thead th {\n",
              "        text-align: right;\n",
              "    }\n",
              "</style>\n",
              "<table border=\"1\" class=\"dataframe\">\n",
              "  <thead>\n",
              "    <tr style=\"text-align: right;\">\n",
              "      <th></th>\n",
              "      <th>OPH</th>\n",
              "      <th>police station</th>\n",
              "      <th>cctv</th>\n",
              "      <th>population</th>\n",
              "      <th>park</th>\n",
              "      <th>elementary school</th>\n",
              "      <th>foreigner</th>\n",
              "      <th>streetlight</th>\n",
              "      <th>per capita income</th>\n",
              "      <th>crime</th>\n",
              "    </tr>\n",
              "    <tr>\n",
              "      <th>district&amp;city</th>\n",
              "      <th></th>\n",
              "      <th></th>\n",
              "      <th></th>\n",
              "      <th></th>\n",
              "      <th></th>\n",
              "      <th></th>\n",
              "      <th></th>\n",
              "      <th></th>\n",
              "      <th></th>\n",
              "      <th></th>\n",
              "    </tr>\n",
              "  </thead>\n",
              "  <tbody>\n",
              "    <tr>\n",
              "      <th>수원시</th>\n",
              "      <td>199051</td>\n",
              "      <td>26</td>\n",
              "      <td>11354</td>\n",
              "      <td>1184754</td>\n",
              "      <td>146</td>\n",
              "      <td>99</td>\n",
              "      <td>35835</td>\n",
              "      <td>28775</td>\n",
              "      <td>41535</td>\n",
              "      <td>40659</td>\n",
              "    </tr>\n",
              "    <tr>\n",
              "      <th>시흥시</th>\n",
              "      <td>81425</td>\n",
              "      <td>11</td>\n",
              "      <td>4951</td>\n",
              "      <td>511900</td>\n",
              "      <td>194</td>\n",
              "      <td>46</td>\n",
              "      <td>32410</td>\n",
              "      <td>27737</td>\n",
              "      <td>32106</td>\n",
              "      <td>17726</td>\n",
              "    </tr>\n",
              "    <tr>\n",
              "      <th>안산시</th>\n",
              "      <td>115664</td>\n",
              "      <td>23</td>\n",
              "      <td>4615</td>\n",
              "      <td>654270</td>\n",
              "      <td>217</td>\n",
              "      <td>38</td>\n",
              "      <td>51270</td>\n",
              "      <td>13899</td>\n",
              "      <td>32021</td>\n",
              "      <td>26263</td>\n",
              "    </tr>\n",
              "    <tr>\n",
              "      <th>화성시</th>\n",
              "      <td>134248</td>\n",
              "      <td>18</td>\n",
              "      <td>7276</td>\n",
              "      <td>878879</td>\n",
              "      <td>440</td>\n",
              "      <td>98</td>\n",
              "      <td>37636</td>\n",
              "      <td>12990</td>\n",
              "      <td>43172</td>\n",
              "      <td>21374</td>\n",
              "    </tr>\n",
              "  </tbody>\n",
              "</table>\n",
              "</div>"
            ],
            "text/plain": [
              "                  OPH  police station   cctv  population  park  \\\n",
              "district&city                                                    \n",
              "수원시            199051              26  11354     1184754   146   \n",
              "시흥시             81425              11   4951      511900   194   \n",
              "안산시            115664              23   4615      654270   217   \n",
              "화성시            134248              18   7276      878879   440   \n",
              "\n",
              "               elementary school  foreigner  streetlight  per capita income  \\\n",
              "district&city                                                                 \n",
              "수원시                           99      35835        28775              41535   \n",
              "시흥시                           46      32410        27737              32106   \n",
              "안산시                           38      51270        13899              32021   \n",
              "화성시                           98      37636        12990              43172   \n",
              "\n",
              "               crime  \n",
              "district&city         \n",
              "수원시            40659  \n",
              "시흥시            17726  \n",
              "안산시            26263  \n",
              "화성시            21374  "
            ]
          },
          "execution_count": 10,
          "metadata": {},
          "output_type": "execute_result"
        }
      ],
      "source": [
        "calculerror('foreigner')"
      ]
    },
    {
      "cell_type": "code",
      "execution_count": null,
      "id": "42008148",
      "metadata": {
        "id": "42008148",
        "outputId": "419e4064-172f-4751-835c-103c06fbda02"
      },
      "outputs": [
        {
          "data": {
            "text/html": [
              "<div>\n",
              "<style scoped>\n",
              "    .dataframe tbody tr th:only-of-type {\n",
              "        vertical-align: middle;\n",
              "    }\n",
              "\n",
              "    .dataframe tbody tr th {\n",
              "        vertical-align: top;\n",
              "    }\n",
              "\n",
              "    .dataframe thead th {\n",
              "        text-align: right;\n",
              "    }\n",
              "</style>\n",
              "<table border=\"1\" class=\"dataframe\">\n",
              "  <thead>\n",
              "    <tr style=\"text-align: right;\">\n",
              "      <th></th>\n",
              "      <th>OPH</th>\n",
              "      <th>police station</th>\n",
              "      <th>cctv</th>\n",
              "      <th>population</th>\n",
              "      <th>park</th>\n",
              "      <th>elementary school</th>\n",
              "      <th>foreigner</th>\n",
              "      <th>streetlight</th>\n",
              "      <th>per capita income</th>\n",
              "      <th>crime</th>\n",
              "    </tr>\n",
              "    <tr>\n",
              "      <th>district&amp;city</th>\n",
              "      <th></th>\n",
              "      <th></th>\n",
              "      <th></th>\n",
              "      <th></th>\n",
              "      <th></th>\n",
              "      <th></th>\n",
              "      <th></th>\n",
              "      <th></th>\n",
              "      <th></th>\n",
              "      <th></th>\n",
              "    </tr>\n",
              "  </thead>\n",
              "  <tbody>\n",
              "    <tr>\n",
              "      <th>고양시</th>\n",
              "      <td>156505</td>\n",
              "      <td>19</td>\n",
              "      <td>6448</td>\n",
              "      <td>1080787</td>\n",
              "      <td>260</td>\n",
              "      <td>87</td>\n",
              "      <td>11522</td>\n",
              "      <td>35387</td>\n",
              "      <td>38882</td>\n",
              "      <td>27043</td>\n",
              "    </tr>\n",
              "    <tr>\n",
              "      <th>수원시</th>\n",
              "      <td>199051</td>\n",
              "      <td>26</td>\n",
              "      <td>11354</td>\n",
              "      <td>1184754</td>\n",
              "      <td>146</td>\n",
              "      <td>99</td>\n",
              "      <td>35835</td>\n",
              "      <td>28775</td>\n",
              "      <td>41535</td>\n",
              "      <td>40659</td>\n",
              "    </tr>\n",
              "    <tr>\n",
              "      <th>시흥시</th>\n",
              "      <td>81425</td>\n",
              "      <td>11</td>\n",
              "      <td>4951</td>\n",
              "      <td>511900</td>\n",
              "      <td>194</td>\n",
              "      <td>46</td>\n",
              "      <td>32410</td>\n",
              "      <td>27737</td>\n",
              "      <td>32106</td>\n",
              "      <td>17726</td>\n",
              "    </tr>\n",
              "    <tr>\n",
              "      <th>용인시</th>\n",
              "      <td>130135</td>\n",
              "      <td>21</td>\n",
              "      <td>8483</td>\n",
              "      <td>1080027</td>\n",
              "      <td>329</td>\n",
              "      <td>105</td>\n",
              "      <td>16731</td>\n",
              "      <td>26665</td>\n",
              "      <td>45556</td>\n",
              "      <td>21502</td>\n",
              "    </tr>\n",
              "  </tbody>\n",
              "</table>\n",
              "</div>"
            ],
            "text/plain": [
              "                  OPH  police station   cctv  population  park  \\\n",
              "district&city                                                    \n",
              "고양시            156505              19   6448     1080787   260   \n",
              "수원시            199051              26  11354     1184754   146   \n",
              "시흥시             81425              11   4951      511900   194   \n",
              "용인시            130135              21   8483     1080027   329   \n",
              "\n",
              "               elementary school  foreigner  streetlight  per capita income  \\\n",
              "district&city                                                                 \n",
              "고양시                           87      11522        35387              38882   \n",
              "수원시                           99      35835        28775              41535   \n",
              "시흥시                           46      32410        27737              32106   \n",
              "용인시                          105      16731        26665              45556   \n",
              "\n",
              "               crime  \n",
              "district&city         \n",
              "고양시            27043  \n",
              "수원시            40659  \n",
              "시흥시            17726  \n",
              "용인시            21502  "
            ]
          },
          "execution_count": 11,
          "metadata": {},
          "output_type": "execute_result"
        }
      ],
      "source": [
        "calculerror('streetlight')"
      ]
    },
    {
      "cell_type": "code",
      "execution_count": null,
      "id": "52c6ec83",
      "metadata": {
        "id": "52c6ec83",
        "outputId": "8fe3b7b8-ff03-45c4-c482-62d4db769a9a"
      },
      "outputs": [
        {
          "data": {
            "text/html": [
              "<div>\n",
              "<style scoped>\n",
              "    .dataframe tbody tr th:only-of-type {\n",
              "        vertical-align: middle;\n",
              "    }\n",
              "\n",
              "    .dataframe tbody tr th {\n",
              "        vertical-align: top;\n",
              "    }\n",
              "\n",
              "    .dataframe thead th {\n",
              "        text-align: right;\n",
              "    }\n",
              "</style>\n",
              "<table border=\"1\" class=\"dataframe\">\n",
              "  <thead>\n",
              "    <tr style=\"text-align: right;\">\n",
              "      <th></th>\n",
              "      <th>OPH</th>\n",
              "      <th>police station</th>\n",
              "      <th>cctv</th>\n",
              "      <th>population</th>\n",
              "      <th>park</th>\n",
              "      <th>elementary school</th>\n",
              "      <th>foreigner</th>\n",
              "      <th>streetlight</th>\n",
              "      <th>per capita income</th>\n",
              "      <th>crime</th>\n",
              "    </tr>\n",
              "    <tr>\n",
              "      <th>district&amp;city</th>\n",
              "      <th></th>\n",
              "      <th></th>\n",
              "      <th></th>\n",
              "      <th></th>\n",
              "      <th></th>\n",
              "      <th></th>\n",
              "      <th></th>\n",
              "      <th></th>\n",
              "      <th></th>\n",
              "      <th></th>\n",
              "    </tr>\n",
              "  </thead>\n",
              "  <tbody>\n",
              "    <tr>\n",
              "      <th>용산구</th>\n",
              "      <td>36881</td>\n",
              "      <td>13</td>\n",
              "      <td>2611</td>\n",
              "      <td>224145</td>\n",
              "      <td>108</td>\n",
              "      <td>15</td>\n",
              "      <td>14349</td>\n",
              "      <td>7838</td>\n",
              "      <td>62704</td>\n",
              "      <td>2969</td>\n",
              "    </tr>\n",
              "    <tr>\n",
              "      <th>서초구</th>\n",
              "      <td>43942</td>\n",
              "      <td>21</td>\n",
              "      <td>4082</td>\n",
              "      <td>416285</td>\n",
              "      <td>181</td>\n",
              "      <td>24</td>\n",
              "      <td>3854</td>\n",
              "      <td>12588</td>\n",
              "      <td>71178</td>\n",
              "      <td>4601</td>\n",
              "    </tr>\n",
              "    <tr>\n",
              "      <th>강남구</th>\n",
              "      <td>68999</td>\n",
              "      <td>23</td>\n",
              "      <td>6871</td>\n",
              "      <td>533359</td>\n",
              "      <td>162</td>\n",
              "      <td>33</td>\n",
              "      <td>4761</td>\n",
              "      <td>14326</td>\n",
              "      <td>71198</td>\n",
              "      <td>7356</td>\n",
              "    </tr>\n",
              "  </tbody>\n",
              "</table>\n",
              "</div>"
            ],
            "text/plain": [
              "                 OPH  police station  cctv  population  park  \\\n",
              "district&city                                                  \n",
              "용산구            36881              13  2611      224145   108   \n",
              "서초구            43942              21  4082      416285   181   \n",
              "강남구            68999              23  6871      533359   162   \n",
              "\n",
              "               elementary school  foreigner  streetlight  per capita income  \\\n",
              "district&city                                                                 \n",
              "용산구                           15      14349         7838              62704   \n",
              "서초구                           24       3854        12588              71178   \n",
              "강남구                           33       4761        14326              71198   \n",
              "\n",
              "               crime  \n",
              "district&city         \n",
              "용산구             2969  \n",
              "서초구             4601  \n",
              "강남구             7356  "
            ]
          },
          "execution_count": 12,
          "metadata": {},
          "output_type": "execute_result"
        }
      ],
      "source": [
        "calculerror('per capita income')"
      ]
    },
    {
      "cell_type": "code",
      "execution_count": null,
      "id": "2686510c",
      "metadata": {
        "id": "2686510c",
        "outputId": "b9ffcf1f-8bc8-40ff-c73c-c19608ddd0be"
      },
      "outputs": [
        {
          "data": {
            "text/html": [
              "<div>\n",
              "<style scoped>\n",
              "    .dataframe tbody tr th:only-of-type {\n",
              "        vertical-align: middle;\n",
              "    }\n",
              "\n",
              "    .dataframe tbody tr th {\n",
              "        vertical-align: top;\n",
              "    }\n",
              "\n",
              "    .dataframe thead th {\n",
              "        text-align: right;\n",
              "    }\n",
              "</style>\n",
              "<table border=\"1\" class=\"dataframe\">\n",
              "  <thead>\n",
              "    <tr style=\"text-align: right;\">\n",
              "      <th></th>\n",
              "      <th>OPH</th>\n",
              "      <th>police station</th>\n",
              "      <th>cctv</th>\n",
              "      <th>population</th>\n",
              "      <th>park</th>\n",
              "      <th>elementary school</th>\n",
              "      <th>foreigner</th>\n",
              "      <th>streetlight</th>\n",
              "      <th>per capita income</th>\n",
              "      <th>crime</th>\n",
              "    </tr>\n",
              "    <tr>\n",
              "      <th>district&amp;city</th>\n",
              "      <th></th>\n",
              "      <th></th>\n",
              "      <th></th>\n",
              "      <th></th>\n",
              "      <th></th>\n",
              "      <th></th>\n",
              "      <th></th>\n",
              "      <th></th>\n",
              "      <th></th>\n",
              "      <th></th>\n",
              "    </tr>\n",
              "  </thead>\n",
              "  <tbody>\n",
              "    <tr>\n",
              "      <th>고양시</th>\n",
              "      <td>156505</td>\n",
              "      <td>19</td>\n",
              "      <td>6448</td>\n",
              "      <td>1080787</td>\n",
              "      <td>260</td>\n",
              "      <td>87</td>\n",
              "      <td>11522</td>\n",
              "      <td>35387</td>\n",
              "      <td>38882</td>\n",
              "      <td>27043</td>\n",
              "    </tr>\n",
              "    <tr>\n",
              "      <th>부천시</th>\n",
              "      <td>120179</td>\n",
              "      <td>17</td>\n",
              "      <td>7546</td>\n",
              "      <td>809083</td>\n",
              "      <td>190</td>\n",
              "      <td>65</td>\n",
              "      <td>24405</td>\n",
              "      <td>16965</td>\n",
              "      <td>32720</td>\n",
              "      <td>28212</td>\n",
              "    </tr>\n",
              "    <tr>\n",
              "      <th>성남시</th>\n",
              "      <td>155774</td>\n",
              "      <td>25</td>\n",
              "      <td>5296</td>\n",
              "      <td>931760</td>\n",
              "      <td>194</td>\n",
              "      <td>72</td>\n",
              "      <td>15184</td>\n",
              "      <td>19808</td>\n",
              "      <td>47955</td>\n",
              "      <td>27066</td>\n",
              "    </tr>\n",
              "    <tr>\n",
              "      <th>수원시</th>\n",
              "      <td>199051</td>\n",
              "      <td>26</td>\n",
              "      <td>11354</td>\n",
              "      <td>1184754</td>\n",
              "      <td>146</td>\n",
              "      <td>99</td>\n",
              "      <td>35835</td>\n",
              "      <td>28775</td>\n",
              "      <td>41535</td>\n",
              "      <td>40659</td>\n",
              "    </tr>\n",
              "    <tr>\n",
              "      <th>안산시</th>\n",
              "      <td>115664</td>\n",
              "      <td>23</td>\n",
              "      <td>4615</td>\n",
              "      <td>654270</td>\n",
              "      <td>217</td>\n",
              "      <td>38</td>\n",
              "      <td>51270</td>\n",
              "      <td>13899</td>\n",
              "      <td>32021</td>\n",
              "      <td>26263</td>\n",
              "    </tr>\n",
              "    <tr>\n",
              "      <th>평택시</th>\n",
              "      <td>110014</td>\n",
              "      <td>16</td>\n",
              "      <td>5271</td>\n",
              "      <td>557450</td>\n",
              "      <td>298</td>\n",
              "      <td>65</td>\n",
              "      <td>23168</td>\n",
              "      <td>21888</td>\n",
              "      <td>36172</td>\n",
              "      <td>25466</td>\n",
              "    </tr>\n",
              "  </tbody>\n",
              "</table>\n",
              "</div>"
            ],
            "text/plain": [
              "                  OPH  police station   cctv  population  park  \\\n",
              "district&city                                                    \n",
              "고양시            156505              19   6448     1080787   260   \n",
              "부천시            120179              17   7546      809083   190   \n",
              "성남시            155774              25   5296      931760   194   \n",
              "수원시            199051              26  11354     1184754   146   \n",
              "안산시            115664              23   4615      654270   217   \n",
              "평택시            110014              16   5271      557450   298   \n",
              "\n",
              "               elementary school  foreigner  streetlight  per capita income  \\\n",
              "district&city                                                                 \n",
              "고양시                           87      11522        35387              38882   \n",
              "부천시                           65      24405        16965              32720   \n",
              "성남시                           72      15184        19808              47955   \n",
              "수원시                           99      35835        28775              41535   \n",
              "안산시                           38      51270        13899              32021   \n",
              "평택시                           65      23168        21888              36172   \n",
              "\n",
              "               crime  \n",
              "district&city         \n",
              "고양시            27043  \n",
              "부천시            28212  \n",
              "성남시            27066  \n",
              "수원시            40659  \n",
              "안산시            26263  \n",
              "평택시            25466  "
            ]
          },
          "execution_count": 13,
          "metadata": {},
          "output_type": "execute_result"
        }
      ],
      "source": [
        "calculerror('crime')"
      ]
    },
    {
      "cell_type": "markdown",
      "id": "7174624b",
      "metadata": {
        "id": "7174624b"
      },
      "source": [
        "# 2) 상관관계 분석"
      ]
    },
    {
      "cell_type": "code",
      "execution_count": null,
      "id": "25b4a3df",
      "metadata": {
        "id": "25b4a3df"
      },
      "outputs": [],
      "source": [
        "#이상치 제거된 csv 파일 이용\n",
        "basic_removed= pd.read_csv('C:/Users/Hyoung/Downloads/complete_removed.csv', thousands=',', encoding='cp949', index_col=0)"
      ]
    },
    {
      "cell_type": "code",
      "execution_count": null,
      "id": "857dda8b",
      "metadata": {
        "scrolled": true,
        "id": "857dda8b",
        "outputId": "bd5c704e-e06e-4d08-b0fe-27cef65e12be"
      },
      "outputs": [
        {
          "data": {
            "text/plain": [
              "<AxesSubplot:xlabel='policestation', ylabel='elementaryschool'>"
            ]
          },
          "execution_count": 5,
          "metadata": {},
          "output_type": "execute_result"
        },
        {
          "data": {
            "image/png": "[encoded data removed]",
            "text/plain": [
              "<Figure size 432x288 with 1 Axes>"
            ]
          },
          "metadata": {
            "needs_background": "light"
          },
          "output_type": "display_data"
        }
      ],
      "source": [
        "sns.boxplot(data=basic_removed, x='policestation', y='elementaryschool')"
      ]
    },
    {
      "cell_type": "code",
      "execution_count": null,
      "id": "ed477b36",
      "metadata": {
        "id": "ed477b36",
        "outputId": "c2091c12-cd26-45c8-b393-982653e7d2ca"
      },
      "outputs": [
        {
          "data": {
            "text/plain": [
              "<AxesSubplot:xlabel='elementaryschool', ylabel='crime'>"
            ]
          },
          "execution_count": 6,
          "metadata": {},
          "output_type": "execute_result"
        },
        {
          "data": {
            "image/png": "[encoded data removed]",
            "text/plain": [
              "<Figure size 432x288 with 1 Axes>"
            ]
          },
          "metadata": {
            "needs_background": "light"
          },
          "output_type": "display_data"
        }
      ],
      "source": [
        "basic_removed.plot(kind='scatter', x='elementaryschool', y='crime')"
      ]
    },
    {
      "cell_type": "code",
      "execution_count": null,
      "id": "e97eccab",
      "metadata": {
        "id": "e97eccab",
        "outputId": "3b0ef67b-8764-4935-d03e-d1bd299938d4"
      },
      "outputs": [
        {
          "data": {
            "text/plain": [
              "<AxesSubplot:xlabel='OPH', ylabel='crime'>"
            ]
          },
          "execution_count": 7,
          "metadata": {},
          "output_type": "execute_result"
        },
        {
          "data": {
            "image/png": "[encoded data removed]",
            "text/plain": [
              "<Figure size 432x288 with 1 Axes>"
            ]
          },
          "metadata": {
            "needs_background": "light"
          },
          "output_type": "display_data"
        }
      ],
      "source": [
        "basic_removed.plot(kind='scatter', x='OPH', y='crime')"
      ]
    },
    {
      "cell_type": "code",
      "execution_count": null,
      "id": "e6883815",
      "metadata": {
        "id": "e6883815",
        "outputId": "fa0023e7-e22d-4111-c85e-72c7a37fb367"
      },
      "outputs": [
        {
          "data": {
            "image/png": "[encoded data removed]",
            "text/plain": [
              "<Figure size 1260x1260 with 49 Axes>"
            ]
          },
          "metadata": {},
          "output_type": "display_data"
        }
      ],
      "source": [
        "sns.set_style('ticks')\n",
        "data=basic_removed[['OPH','policestation','cctv','population','streetlight','per_capita_income','crime']]\n",
        "sns.pairplot(data,diag_kind=None)\n",
        "plt.show()"
      ]
    },
    {
      "cell_type": "code",
      "execution_count": null,
      "id": "d4ff4d12",
      "metadata": {
        "id": "d4ff4d12",
        "outputId": "954a3365-2722-4e83-b202-41f028ede2f7"
      },
      "outputs": [
        {
          "data": {
            "text/plain": [
              "<seaborn.matrix.ClusterGrid at 0x1e0ccdf4310>"
            ]
          },
          "execution_count": 9,
          "metadata": {},
          "output_type": "execute_result"
        },
        {
          "data": {
            "image/png": "[encoded data removed]",
            "text/plain": [
              "<Figure size 720x720 with 4 Axes>"
            ]
          },
          "metadata": {},
          "output_type": "display_data"
        }
      ],
      "source": [
        "df= basic_removed.corr()\n",
        "sns.clustermap(df,\n",
        "              annot = True,\n",
        "              cmap= 'RdYlBu_r',\n",
        "              vmin = -1, vmax =1,\n",
        "              )"
      ]
    },
    {
      "cell_type": "markdown",
      "id": "162de393",
      "metadata": {
        "id": "162de393"
      },
      "source": [
        "# 3) 다중 선형 회귀(Multiple Linear Regression)"
      ]
    },
    {
      "cell_type": "markdown",
      "id": "f95842ee",
      "metadata": {
        "id": "f95842ee"
      },
      "source": [
        "### 다중회귀모델의 R-squared value & P-value"
      ]
    },
    {
      "cell_type": "code",
      "execution_count": null,
      "id": "90f84f05",
      "metadata": {
        "id": "90f84f05",
        "outputId": "262e00e6-cd8a-4c85-c36f-f73c5d0d5b1f"
      },
      "outputs": [
        {
          "data": {
            "text/html": [
              "<table class=\"simpletable\">\n",
              "<caption>OLS Regression Results</caption>\n",
              "<tr>\n",
              "  <th>Dep. Variable:</th>          <td>crime</td>      <th>  R-squared:         </th> <td>   0.723</td>\n",
              "</tr>\n",
              "<tr>\n",
              "  <th>Model:</th>                   <td>OLS</td>       <th>  Adj. R-squared:    </th> <td>   0.643</td>\n",
              "</tr>\n",
              "<tr>\n",
              "  <th>Method:</th>             <td>Least Squares</td>  <th>  F-statistic:       </th> <td>   8.991</td>\n",
              "</tr>\n",
              "<tr>\n",
              "  <th>Date:</th>             <td>Tue, 31 May 2022</td> <th>  Prob (F-statistic):</th> <td>1.60e-06</td>\n",
              "</tr>\n",
              "<tr>\n",
              "  <th>Time:</th>                 <td>01:59:21</td>     <th>  Log-Likelihood:    </th> <td> -366.59</td>\n",
              "</tr>\n",
              "<tr>\n",
              "  <th>No. Observations:</th>      <td>    41</td>      <th>  AIC:               </th> <td>   753.2</td>\n",
              "</tr>\n",
              "<tr>\n",
              "  <th>Df Residuals:</th>          <td>    31</td>      <th>  BIC:               </th> <td>   770.3</td>\n",
              "</tr>\n",
              "<tr>\n",
              "  <th>Df Model:</th>              <td>     9</td>      <th>                     </th>     <td> </td>   \n",
              "</tr>\n",
              "<tr>\n",
              "  <th>Covariance Type:</th>      <td>nonrobust</td>    <th>                     </th>     <td> </td>   \n",
              "</tr>\n",
              "</table>\n",
              "<table class=\"simpletable\">\n",
              "<tr>\n",
              "          <td></td>             <th>coef</th>     <th>std err</th>      <th>t</th>      <th>P>|t|</th>  <th>[0.025</th>    <th>0.975]</th>  \n",
              "</tr>\n",
              "<tr>\n",
              "  <th>Intercept</th>         <td> -741.4101</td> <td> 2596.922</td> <td>   -0.285</td> <td> 0.777</td> <td>-6037.868</td> <td> 4555.047</td>\n",
              "</tr>\n",
              "<tr>\n",
              "  <th>per_capita_income</th> <td>    0.0472</td> <td>    0.061</td> <td>    0.772</td> <td> 0.446</td> <td>   -0.077</td> <td>    0.172</td>\n",
              "</tr>\n",
              "<tr>\n",
              "  <th>foreigner</th>         <td>    0.0400</td> <td>    0.071</td> <td>    0.563</td> <td> 0.578</td> <td>   -0.105</td> <td>    0.185</td>\n",
              "</tr>\n",
              "<tr>\n",
              "  <th>park</th>              <td>  -22.8787</td> <td>   18.357</td> <td>   -1.246</td> <td> 0.222</td> <td>  -60.317</td> <td>   14.560</td>\n",
              "</tr>\n",
              "<tr>\n",
              "  <th>cctv</th>              <td>    0.5595</td> <td>    0.379</td> <td>    1.476</td> <td> 0.150</td> <td>   -0.214</td> <td>    1.333</td>\n",
              "</tr>\n",
              "<tr>\n",
              "  <th>policestation</th>     <td> -269.3343</td> <td>   76.123</td> <td>   -3.538</td> <td> 0.001</td> <td> -424.589</td> <td> -114.080</td>\n",
              "</tr>\n",
              "<tr>\n",
              "  <th>population</th>        <td>   -0.0012</td> <td>    0.004</td> <td>   -0.309</td> <td> 0.759</td> <td>   -0.009</td> <td>    0.007</td>\n",
              "</tr>\n",
              "<tr>\n",
              "  <th>elementaryschool</th>  <td>  197.3638</td> <td>   53.470</td> <td>    3.691</td> <td> 0.001</td> <td>   88.310</td> <td>  306.418</td>\n",
              "</tr>\n",
              "<tr>\n",
              "  <th>streetlight</th>       <td>    0.1485</td> <td>    0.131</td> <td>    1.133</td> <td> 0.266</td> <td>   -0.119</td> <td>    0.416</td>\n",
              "</tr>\n",
              "<tr>\n",
              "  <th>OPH</th>               <td>    0.0455</td> <td>    0.025</td> <td>    1.825</td> <td> 0.078</td> <td>   -0.005</td> <td>    0.096</td>\n",
              "</tr>\n",
              "</table>\n",
              "<table class=\"simpletable\">\n",
              "<tr>\n",
              "  <th>Omnibus:</th>       <td> 6.800</td> <th>  Durbin-Watson:     </th> <td>   1.591</td>\n",
              "</tr>\n",
              "<tr>\n",
              "  <th>Prob(Omnibus):</th> <td> 0.033</td> <th>  Jarque-Bera (JB):  </th> <td>   6.260</td>\n",
              "</tr>\n",
              "<tr>\n",
              "  <th>Skew:</th>          <td> 0.956</td> <th>  Prob(JB):          </th> <td>  0.0437</td>\n",
              "</tr>\n",
              "<tr>\n",
              "  <th>Kurtosis:</th>      <td> 3.102</td> <th>  Cond. No.          </th> <td>3.14e+06</td>\n",
              "</tr>\n",
              "</table><br/><br/>Notes:<br/>[1] Standard Errors assume that the covariance matrix of the errors is correctly specified.<br/>[2] The condition number is large, 3.14e+06. This might indicate that there are<br/>strong multicollinearity or other numerical problems."
            ],
            "text/plain": [
              "<class 'statsmodels.iolib.summary.Summary'>\n",
              "\"\"\"\n",
              "                            OLS Regression Results                            \n",
              "==============================================================================\n",
              "Dep. Variable:                  crime   R-squared:                       0.723\n",
              "Model:                            OLS   Adj. R-squared:                  0.643\n",
              "Method:                 Least Squares   F-statistic:                     8.991\n",
              "Date:                Tue, 31 May 2022   Prob (F-statistic):           1.60e-06\n",
              "Time:                        01:59:21   Log-Likelihood:                -366.59\n",
              "No. Observations:                  41   AIC:                             753.2\n",
              "Df Residuals:                      31   BIC:                             770.3\n",
              "Df Model:                           9                                         \n",
              "Covariance Type:            nonrobust                                         \n",
              "=====================================================================================\n",
              "                        coef    std err          t      P>|t|      [0.025      0.975]\n",
              "-------------------------------------------------------------------------------------\n",
              "Intercept          -741.4101   2596.922     -0.285      0.777   -6037.868    4555.047\n",
              "per_capita_income     0.0472      0.061      0.772      0.446      -0.077       0.172\n",
              "foreigner             0.0400      0.071      0.563      0.578      -0.105       0.185\n",
              "park                -22.8787     18.357     -1.246      0.222     -60.317      14.560\n",
              "cctv                  0.5595      0.379      1.476      0.150      -0.214       1.333\n",
              "policestation      -269.3343     76.123     -3.538      0.001    -424.589    -114.080\n",
              "population           -0.0012      0.004     -0.309      0.759      -0.009       0.007\n",
              "elementaryschool    197.3638     53.470      3.691      0.001      88.310     306.418\n",
              "streetlight           0.1485      0.131      1.133      0.266      -0.119       0.416\n",
              "OPH                   0.0455      0.025      1.825      0.078      -0.005       0.096\n",
              "==============================================================================\n",
              "Omnibus:                        6.800   Durbin-Watson:                   1.591\n",
              "Prob(Omnibus):                  0.033   Jarque-Bera (JB):                6.260\n",
              "Skew:                           0.956   Prob(JB):                       0.0437\n",
              "Kurtosis:                       3.102   Cond. No.                     3.14e+06\n",
              "==============================================================================\n",
              "\n",
              "Notes:\n",
              "[1] Standard Errors assume that the covariance matrix of the errors is correctly specified.\n",
              "[2] The condition number is large, 3.14e+06. This might indicate that there are\n",
              "strong multicollinearity or other numerical problems.\n",
              "\"\"\""
            ]
          },
          "execution_count": 60,
          "metadata": {},
          "output_type": "execute_result"
        }
      ],
      "source": [
        "import statsmodels.formula.api as sm\n",
        "\n",
        "result = sm.ols(formula = 'crime ~ per_capita_income+foreigner+park+cctv+policestation+population+elementaryschool+streetlight+OPH', data = basic_removed).fit()\n",
        "result.summary()"
      ]
    },
    {
      "cell_type": "markdown",
      "id": "1ef913f9",
      "metadata": {
        "id": "1ef913f9"
      },
      "source": [
        "# 4) 단순 선형 회귀(Simple Linear Regression)"
      ]
    },
    {
      "cell_type": "code",
      "execution_count": null,
      "id": "ff1aa242",
      "metadata": {
        "id": "ff1aa242"
      },
      "outputs": [],
      "source": [
        "from sklearn.linear_model import LinearRegression\n",
        "import statsmodels.api as sm"
      ]
    },
    {
      "cell_type": "code",
      "execution_count": null,
      "id": "54aa4beb",
      "metadata": {
        "id": "54aa4beb"
      },
      "outputs": [],
      "source": [
        "lin_reg = LinearRegression()"
      ]
    },
    {
      "cell_type": "markdown",
      "id": "b23c4263",
      "metadata": {
        "id": "b23c4263"
      },
      "source": [
        "### 1-1. Population"
      ]
    },
    {
      "cell_type": "code",
      "execution_count": null,
      "id": "3c96b7b6",
      "metadata": {
        "id": "3c96b7b6",
        "outputId": "1b4489c2-c395-431c-b34c-1f3f1d0f8bc3"
      },
      "outputs": [
        {
          "data": {
            "text/plain": [
              "LinearRegression()"
            ]
          },
          "execution_count": 14,
          "metadata": {},
          "output_type": "execute_result"
        }
      ],
      "source": [
        "x=basic_removed['population']\n",
        "y=basic_removed['crime']\n",
        "lin_reg.fit(x.values.reshape(-1,1),y)"
      ]
    },
    {
      "cell_type": "code",
      "execution_count": null,
      "id": "cee81b5c",
      "metadata": {
        "id": "cee81b5c",
        "outputId": "56661849-90cc-4c3d-ea63-94db063a3e96"
      },
      "outputs": [
        {
          "data": {
            "image/png": "[encoded data removed]",
            "text/plain": [
              "<Figure size 432x288 with 1 Axes>"
            ]
          },
          "metadata": {},
          "output_type": "display_data"
        }
      ],
      "source": [
        "plt.plot(x,y,'o')\n",
        "plt.plot(x,lin_reg.predict(x.values.reshape(-1,1)))\n",
        "plt.show()"
      ]
    },
    {
      "cell_type": "code",
      "execution_count": null,
      "id": "2602856a",
      "metadata": {
        "id": "2602856a",
        "outputId": "02132178-940f-4ba5-b492-1519e28a9bd7"
      },
      "outputs": [
        {
          "name": "stdout",
          "output_type": "stream",
          "text": [
            "y= [0.00792951]*x + 2693.632379209892\n"
          ]
        }
      ],
      "source": [
        "print(f'y= {lin_reg.coef_}*x + {lin_reg.intercept_}')"
      ]
    },
    {
      "cell_type": "code",
      "execution_count": null,
      "id": "ca1e60d9",
      "metadata": {
        "id": "ca1e60d9",
        "outputId": "f0b15b85-6fb6-44b7-f231-ad5107a79d64"
      },
      "outputs": [
        {
          "name": "stderr",
          "output_type": "stream",
          "text": [
            "C:\\Users\\Hyoung\\anaconda3\\envs\\aidemy\\lib\\site-packages\\seaborn\\distributions.py:2619: FutureWarning: `distplot` is a deprecated function and will be removed in a future version. Please adapt your code to use either `displot` (a figure-level function with similar flexibility) or `histplot` (an axes-level function for histograms).\n",
            "  warnings.warn(msg, FutureWarning)\n"
          ]
        },
        {
          "data": {
            "text/plain": [
              "<AxesSubplot:xlabel='population', ylabel='Density'>"
            ]
          },
          "execution_count": 17,
          "metadata": {},
          "output_type": "execute_result"
        },
        {
          "data": {
            "image/png": "[encoded data removed]",
            "text/plain": [
              "<Figure size 432x288 with 1 Axes>"
            ]
          },
          "metadata": {},
          "output_type": "display_data"
        }
      ],
      "source": [
        "sns.distplot(basic_removed['population'])"
      ]
    },
    {
      "cell_type": "code",
      "execution_count": null,
      "id": "78bcc791",
      "metadata": {
        "id": "78bcc791",
        "outputId": "8c3c8c47-f289-4da6-ce2f-e337c48f5400"
      },
      "outputs": [
        {
          "data": {
            "text/html": [
              "<table class=\"simpletable\">\n",
              "<caption>OLS Regression Results</caption>\n",
              "<tr>\n",
              "  <th>Dep. Variable:</th>          <td>crime</td>      <th>  R-squared:         </th> <td>   0.155</td>\n",
              "</tr>\n",
              "<tr>\n",
              "  <th>Model:</th>                   <td>OLS</td>       <th>  Adj. R-squared:    </th> <td>   0.133</td>\n",
              "</tr>\n",
              "<tr>\n",
              "  <th>Method:</th>             <td>Least Squares</td>  <th>  F-statistic:       </th> <td>   7.136</td>\n",
              "</tr>\n",
              "<tr>\n",
              "  <th>Date:</th>             <td>Tue, 31 May 2022</td> <th>  Prob (F-statistic):</th>  <td>0.0110</td> \n",
              "</tr>\n",
              "<tr>\n",
              "  <th>Time:</th>                 <td>01:21:20</td>     <th>  Log-Likelihood:    </th> <td> -389.47</td>\n",
              "</tr>\n",
              "<tr>\n",
              "  <th>No. Observations:</th>      <td>    41</td>      <th>  AIC:               </th> <td>   782.9</td>\n",
              "</tr>\n",
              "<tr>\n",
              "  <th>Df Residuals:</th>          <td>    39</td>      <th>  BIC:               </th> <td>   786.4</td>\n",
              "</tr>\n",
              "<tr>\n",
              "  <th>Df Model:</th>              <td>     1</td>      <th>                     </th>     <td> </td>   \n",
              "</tr>\n",
              "<tr>\n",
              "  <th>Covariance Type:</th>      <td>nonrobust</td>    <th>                     </th>     <td> </td>   \n",
              "</tr>\n",
              "</table>\n",
              "<table class=\"simpletable\">\n",
              "<tr>\n",
              "       <td></td>         <th>coef</th>     <th>std err</th>      <th>t</th>      <th>P>|t|</th>  <th>[0.025</th>    <th>0.975]</th>  \n",
              "</tr>\n",
              "<tr>\n",
              "  <th>const</th>      <td> 2693.6324</td> <td> 1177.070</td> <td>    2.288</td> <td> 0.028</td> <td>  312.783</td> <td> 5074.482</td>\n",
              "</tr>\n",
              "<tr>\n",
              "  <th>population</th> <td>    0.0079</td> <td>    0.003</td> <td>    2.671</td> <td> 0.011</td> <td>    0.002</td> <td>    0.014</td>\n",
              "</tr>\n",
              "</table>\n",
              "<table class=\"simpletable\">\n",
              "<tr>\n",
              "  <th>Omnibus:</th>       <td> 6.097</td> <th>  Durbin-Watson:     </th> <td>   1.069</td>\n",
              "</tr>\n",
              "<tr>\n",
              "  <th>Prob(Omnibus):</th> <td> 0.047</td> <th>  Jarque-Bera (JB):  </th> <td>   5.949</td>\n",
              "</tr>\n",
              "<tr>\n",
              "  <th>Skew:</th>          <td> 0.925</td> <th>  Prob(JB):          </th> <td>  0.0511</td>\n",
              "</tr>\n",
              "<tr>\n",
              "  <th>Kurtosis:</th>      <td> 2.754</td> <th>  Cond. No.          </th> <td>9.02e+05</td>\n",
              "</tr>\n",
              "</table><br/><br/>Notes:<br/>[1] Standard Errors assume that the covariance matrix of the errors is correctly specified.<br/>[2] The condition number is large, 9.02e+05. This might indicate that there are<br/>strong multicollinearity or other numerical problems."
            ],
            "text/plain": [
              "<class 'statsmodels.iolib.summary.Summary'>\n",
              "\"\"\"\n",
              "                            OLS Regression Results                            \n",
              "==============================================================================\n",
              "Dep. Variable:                  crime   R-squared:                       0.155\n",
              "Model:                            OLS   Adj. R-squared:                  0.133\n",
              "Method:                 Least Squares   F-statistic:                     7.136\n",
              "Date:                Tue, 31 May 2022   Prob (F-statistic):             0.0110\n",
              "Time:                        01:21:20   Log-Likelihood:                -389.47\n",
              "No. Observations:                  41   AIC:                             782.9\n",
              "Df Residuals:                      39   BIC:                             786.4\n",
              "Df Model:                           1                                         \n",
              "Covariance Type:            nonrobust                                         \n",
              "==============================================================================\n",
              "                 coef    std err          t      P>|t|      [0.025      0.975]\n",
              "------------------------------------------------------------------------------\n",
              "const       2693.6324   1177.070      2.288      0.028     312.783    5074.482\n",
              "population     0.0079      0.003      2.671      0.011       0.002       0.014\n",
              "==============================================================================\n",
              "Omnibus:                        6.097   Durbin-Watson:                   1.069\n",
              "Prob(Omnibus):                  0.047   Jarque-Bera (JB):                5.949\n",
              "Skew:                           0.925   Prob(JB):                       0.0511\n",
              "Kurtosis:                       2.754   Cond. No.                     9.02e+05\n",
              "==============================================================================\n",
              "\n",
              "Notes:\n",
              "[1] Standard Errors assume that the covariance matrix of the errors is correctly specified.\n",
              "[2] The condition number is large, 9.02e+05. This might indicate that there are\n",
              "strong multicollinearity or other numerical problems.\n",
              "\"\"\""
            ]
          },
          "execution_count": 18,
          "metadata": {},
          "output_type": "execute_result"
        }
      ],
      "source": [
        "result1_1 = sm.OLS(y, sm.add_constant(x)).fit()\n",
        "result1_1.summary()"
      ]
    },
    {
      "cell_type": "markdown",
      "id": "daced214",
      "metadata": {
        "id": "daced214"
      },
      "source": [
        "### 1-2. Park(the least R-squared value)"
      ]
    },
    {
      "cell_type": "code",
      "execution_count": null,
      "id": "bb889a70",
      "metadata": {
        "id": "bb889a70",
        "outputId": "a90c64a2-b293-459c-9993-cbb047eb77a4"
      },
      "outputs": [
        {
          "data": {
            "text/plain": [
              "LinearRegression()"
            ]
          },
          "execution_count": 19,
          "metadata": {},
          "output_type": "execute_result"
        }
      ],
      "source": [
        "x=basic_removed['park']\n",
        "y=basic_removed['crime']\n",
        "lin_reg.fit(x.values.reshape(-1,1),y)"
      ]
    },
    {
      "cell_type": "code",
      "execution_count": null,
      "id": "12efda08",
      "metadata": {
        "id": "12efda08",
        "outputId": "e7d7bd3c-1295-4a39-d21b-d7b3635b1535"
      },
      "outputs": [
        {
          "data": {
            "image/png": "[encoded data removed]",
            "text/plain": [
              "<Figure size 432x288 with 1 Axes>"
            ]
          },
          "metadata": {},
          "output_type": "display_data"
        }
      ],
      "source": [
        "plt.plot(x,y,'o')\n",
        "plt.plot(x,lin_reg.predict(x.values.reshape(-1,1)))\n",
        "plt.show()"
      ]
    },
    {
      "cell_type": "code",
      "execution_count": null,
      "id": "0273d052",
      "metadata": {
        "id": "0273d052",
        "outputId": "26167865-e56a-4306-9769-dae8f287c9f5"
      },
      "outputs": [
        {
          "name": "stdout",
          "output_type": "stream",
          "text": [
            "y= [24.66551545]*x + 3036.6524088531487\n"
          ]
        }
      ],
      "source": [
        "print(f'y= {lin_reg.coef_}*x + {lin_reg.intercept_}')"
      ]
    },
    {
      "cell_type": "code",
      "execution_count": null,
      "id": "0395cc58",
      "metadata": {
        "id": "0395cc58",
        "outputId": "f58d5f8b-e8b7-4ac8-be8a-123d44079942"
      },
      "outputs": [
        {
          "name": "stderr",
          "output_type": "stream",
          "text": [
            "C:\\Users\\Hyoung\\anaconda3\\envs\\aidemy\\lib\\site-packages\\seaborn\\distributions.py:2619: FutureWarning: `distplot` is a deprecated function and will be removed in a future version. Please adapt your code to use either `displot` (a figure-level function with similar flexibility) or `histplot` (an axes-level function for histograms).\n",
            "  warnings.warn(msg, FutureWarning)\n"
          ]
        },
        {
          "data": {
            "text/plain": [
              "<AxesSubplot:xlabel='park', ylabel='Density'>"
            ]
          },
          "execution_count": 22,
          "metadata": {},
          "output_type": "execute_result"
        },
        {
          "data": {
            "image/png": "[encoded data removed]",
            "text/plain": [
              "<Figure size 432x288 with 1 Axes>"
            ]
          },
          "metadata": {},
          "output_type": "display_data"
        }
      ],
      "source": [
        "sns.distplot(basic_removed['park'])"
      ]
    },
    {
      "cell_type": "code",
      "execution_count": null,
      "id": "d2af3b9d",
      "metadata": {
        "scrolled": true,
        "id": "d2af3b9d",
        "outputId": "822a5dbe-d093-4c88-f7b5-ba2d531fea63"
      },
      "outputs": [
        {
          "data": {
            "text/html": [
              "<table class=\"simpletable\">\n",
              "<caption>OLS Regression Results</caption>\n",
              "<tr>\n",
              "  <th>Dep. Variable:</th>          <td>crime</td>      <th>  R-squared:         </th> <td>   0.083</td>\n",
              "</tr>\n",
              "<tr>\n",
              "  <th>Model:</th>                   <td>OLS</td>       <th>  Adj. R-squared:    </th> <td>   0.059</td>\n",
              "</tr>\n",
              "<tr>\n",
              "  <th>Method:</th>             <td>Least Squares</td>  <th>  F-statistic:       </th> <td>   3.511</td>\n",
              "</tr>\n",
              "<tr>\n",
              "  <th>Date:</th>             <td>Tue, 31 May 2022</td> <th>  Prob (F-statistic):</th>  <td>0.0685</td> \n",
              "</tr>\n",
              "<tr>\n",
              "  <th>Time:</th>                 <td>01:22:36</td>     <th>  Log-Likelihood:    </th> <td> -391.14</td>\n",
              "</tr>\n",
              "<tr>\n",
              "  <th>No. Observations:</th>      <td>    41</td>      <th>  AIC:               </th> <td>   786.3</td>\n",
              "</tr>\n",
              "<tr>\n",
              "  <th>Df Residuals:</th>          <td>    39</td>      <th>  BIC:               </th> <td>   789.7</td>\n",
              "</tr>\n",
              "<tr>\n",
              "  <th>Df Model:</th>              <td>     1</td>      <th>                     </th>     <td> </td>   \n",
              "</tr>\n",
              "<tr>\n",
              "  <th>Covariance Type:</th>      <td>nonrobust</td>    <th>                     </th>     <td> </td>   \n",
              "</tr>\n",
              "</table>\n",
              "<table class=\"simpletable\">\n",
              "<tr>\n",
              "    <td></td>       <th>coef</th>     <th>std err</th>      <th>t</th>      <th>P>|t|</th>  <th>[0.025</th>    <th>0.975]</th>  \n",
              "</tr>\n",
              "<tr>\n",
              "  <th>const</th> <td> 3036.6524</td> <td> 1429.756</td> <td>    2.124</td> <td> 0.040</td> <td>  144.698</td> <td> 5928.607</td>\n",
              "</tr>\n",
              "<tr>\n",
              "  <th>park</th>  <td>   24.6655</td> <td>   13.163</td> <td>    1.874</td> <td> 0.068</td> <td>   -1.960</td> <td>   51.291</td>\n",
              "</tr>\n",
              "</table>\n",
              "<table class=\"simpletable\">\n",
              "<tr>\n",
              "  <th>Omnibus:</th>       <td> 8.766</td> <th>  Durbin-Watson:     </th> <td>   1.032</td>\n",
              "</tr>\n",
              "<tr>\n",
              "  <th>Prob(Omnibus):</th> <td> 0.012</td> <th>  Jarque-Bera (JB):  </th> <td>   8.507</td>\n",
              "</tr>\n",
              "<tr>\n",
              "  <th>Skew:</th>          <td> 1.111</td> <th>  Prob(JB):          </th> <td>  0.0142</td>\n",
              "</tr>\n",
              "<tr>\n",
              "  <th>Kurtosis:</th>      <td> 3.213</td> <th>  Cond. No.          </th> <td>    288.</td>\n",
              "</tr>\n",
              "</table><br/><br/>Notes:<br/>[1] Standard Errors assume that the covariance matrix of the errors is correctly specified."
            ],
            "text/plain": [
              "<class 'statsmodels.iolib.summary.Summary'>\n",
              "\"\"\"\n",
              "                            OLS Regression Results                            \n",
              "==============================================================================\n",
              "Dep. Variable:                  crime   R-squared:                       0.083\n",
              "Model:                            OLS   Adj. R-squared:                  0.059\n",
              "Method:                 Least Squares   F-statistic:                     3.511\n",
              "Date:                Tue, 31 May 2022   Prob (F-statistic):             0.0685\n",
              "Time:                        01:22:36   Log-Likelihood:                -391.14\n",
              "No. Observations:                  41   AIC:                             786.3\n",
              "Df Residuals:                      39   BIC:                             789.7\n",
              "Df Model:                           1                                         \n",
              "Covariance Type:            nonrobust                                         \n",
              "==============================================================================\n",
              "                 coef    std err          t      P>|t|      [0.025      0.975]\n",
              "------------------------------------------------------------------------------\n",
              "const       3036.6524   1429.756      2.124      0.040     144.698    5928.607\n",
              "park          24.6655     13.163      1.874      0.068      -1.960      51.291\n",
              "==============================================================================\n",
              "Omnibus:                        8.766   Durbin-Watson:                   1.032\n",
              "Prob(Omnibus):                  0.012   Jarque-Bera (JB):                8.507\n",
              "Skew:                           1.111   Prob(JB):                       0.0142\n",
              "Kurtosis:                       3.213   Cond. No.                         288.\n",
              "==============================================================================\n",
              "\n",
              "Notes:\n",
              "[1] Standard Errors assume that the covariance matrix of the errors is correctly specified.\n",
              "\"\"\""
            ]
          },
          "execution_count": 23,
          "metadata": {},
          "output_type": "execute_result"
        }
      ],
      "source": [
        "result1_2 = sm.OLS(y, sm.add_constant(x)).fit()\n",
        "result1_2.summary()"
      ]
    },
    {
      "cell_type": "markdown",
      "id": "f79cfc90",
      "metadata": {
        "id": "f79cfc90"
      },
      "source": [
        "### 1-3. OPH(One person household)"
      ]
    },
    {
      "cell_type": "code",
      "execution_count": null,
      "id": "abd8b126",
      "metadata": {
        "id": "abd8b126",
        "outputId": "7459b919-9c19-488a-d1f8-ad25207eb843"
      },
      "outputs": [
        {
          "data": {
            "text/plain": [
              "LinearRegression()"
            ]
          },
          "execution_count": 24,
          "metadata": {},
          "output_type": "execute_result"
        }
      ],
      "source": [
        "x=basic_removed['OPH']\n",
        "y=basic_removed['crime']\n",
        "lin_reg.fit(x.values.reshape(-1,1),y)"
      ]
    },
    {
      "cell_type": "code",
      "execution_count": null,
      "id": "5c08b1ed",
      "metadata": {
        "id": "5c08b1ed",
        "outputId": "cc641b0c-d8bf-4ebc-f83f-c99b18a90f8f"
      },
      "outputs": [
        {
          "data": {
            "image/png": "[encoded data removed]",
            "text/plain": [
              "<Figure size 432x288 with 1 Axes>"
            ]
          },
          "metadata": {},
          "output_type": "display_data"
        }
      ],
      "source": [
        "plt.plot(x,y,'o')\n",
        "plt.plot(x,lin_reg.predict(x.values.reshape(-1,1)))\n",
        "plt.show()"
      ]
    },
    {
      "cell_type": "code",
      "execution_count": null,
      "id": "53262fe7",
      "metadata": {
        "id": "53262fe7",
        "outputId": "e354a619-b76f-4d6a-98ea-9badc3d93cc0"
      },
      "outputs": [
        {
          "name": "stdout",
          "output_type": "stream",
          "text": [
            "y= [0.06675468]*x + 2111.907351114727\n"
          ]
        }
      ],
      "source": [
        "print(f'y= {lin_reg.coef_}*x + {lin_reg.intercept_}')"
      ]
    },
    {
      "cell_type": "code",
      "execution_count": null,
      "id": "7fb05308",
      "metadata": {
        "id": "7fb05308",
        "outputId": "e5f644f2-a240-4094-caba-886548f53364"
      },
      "outputs": [
        {
          "name": "stderr",
          "output_type": "stream",
          "text": [
            "C:\\Users\\Hyoung\\anaconda3\\envs\\aidemy\\lib\\site-packages\\seaborn\\distributions.py:2619: FutureWarning: `distplot` is a deprecated function and will be removed in a future version. Please adapt your code to use either `displot` (a figure-level function with similar flexibility) or `histplot` (an axes-level function for histograms).\n",
            "  warnings.warn(msg, FutureWarning)\n"
          ]
        },
        {
          "data": {
            "text/plain": [
              "<AxesSubplot:xlabel='OPH', ylabel='Density'>"
            ]
          },
          "execution_count": 27,
          "metadata": {},
          "output_type": "execute_result"
        },
        {
          "data": {
            "image/png": "[encoded data removed]",
            "text/plain": [
              "<Figure size 432x288 with 1 Axes>"
            ]
          },
          "metadata": {},
          "output_type": "display_data"
        }
      ],
      "source": [
        "sns.distplot(basic_removed['OPH'])"
      ]
    },
    {
      "cell_type": "code",
      "execution_count": null,
      "id": "401e6fdc",
      "metadata": {
        "id": "401e6fdc",
        "outputId": "196e925e-bccf-45f8-a989-aa52993ae88b"
      },
      "outputs": [
        {
          "data": {
            "text/html": [
              "<table class=\"simpletable\">\n",
              "<caption>OLS Regression Results</caption>\n",
              "<tr>\n",
              "  <th>Dep. Variable:</th>          <td>crime</td>      <th>  R-squared:         </th> <td>   0.186</td>\n",
              "</tr>\n",
              "<tr>\n",
              "  <th>Model:</th>                   <td>OLS</td>       <th>  Adj. R-squared:    </th> <td>   0.165</td>\n",
              "</tr>\n",
              "<tr>\n",
              "  <th>Method:</th>             <td>Least Squares</td>  <th>  F-statistic:       </th> <td>   8.926</td>\n",
              "</tr>\n",
              "<tr>\n",
              "  <th>Date:</th>             <td>Tue, 31 May 2022</td> <th>  Prob (F-statistic):</th>  <td>0.00484</td>\n",
              "</tr>\n",
              "<tr>\n",
              "  <th>Time:</th>                 <td>01:23:48</td>     <th>  Log-Likelihood:    </th> <td> -388.68</td>\n",
              "</tr>\n",
              "<tr>\n",
              "  <th>No. Observations:</th>      <td>    41</td>      <th>  AIC:               </th> <td>   781.4</td>\n",
              "</tr>\n",
              "<tr>\n",
              "  <th>Df Residuals:</th>          <td>    39</td>      <th>  BIC:               </th> <td>   784.8</td>\n",
              "</tr>\n",
              "<tr>\n",
              "  <th>Df Model:</th>              <td>     1</td>      <th>                     </th>     <td> </td>   \n",
              "</tr>\n",
              "<tr>\n",
              "  <th>Covariance Type:</th>      <td>nonrobust</td>    <th>                     </th>     <td> </td>   \n",
              "</tr>\n",
              "</table>\n",
              "<table class=\"simpletable\">\n",
              "<tr>\n",
              "    <td></td>       <th>coef</th>     <th>std err</th>      <th>t</th>      <th>P>|t|</th>  <th>[0.025</th>    <th>0.975]</th>  \n",
              "</tr>\n",
              "<tr>\n",
              "  <th>const</th> <td> 2111.9074</td> <td> 1247.966</td> <td>    1.692</td> <td> 0.099</td> <td> -412.343</td> <td> 4636.158</td>\n",
              "</tr>\n",
              "<tr>\n",
              "  <th>OPH</th>   <td>    0.0668</td> <td>    0.022</td> <td>    2.988</td> <td> 0.005</td> <td>    0.022</td> <td>    0.112</td>\n",
              "</tr>\n",
              "</table>\n",
              "<table class=\"simpletable\">\n",
              "<tr>\n",
              "  <th>Omnibus:</th>       <td> 4.966</td> <th>  Durbin-Watson:     </th> <td>   0.807</td>\n",
              "</tr>\n",
              "<tr>\n",
              "  <th>Prob(Omnibus):</th> <td> 0.084</td> <th>  Jarque-Bera (JB):  </th> <td>   4.620</td>\n",
              "</tr>\n",
              "<tr>\n",
              "  <th>Skew:</th>          <td> 0.817</td> <th>  Prob(JB):          </th> <td>  0.0993</td>\n",
              "</tr>\n",
              "<tr>\n",
              "  <th>Kurtosis:</th>      <td> 2.812</td> <th>  Cond. No.          </th> <td>1.37e+05</td>\n",
              "</tr>\n",
              "</table><br/><br/>Notes:<br/>[1] Standard Errors assume that the covariance matrix of the errors is correctly specified.<br/>[2] The condition number is large, 1.37e+05. This might indicate that there are<br/>strong multicollinearity or other numerical problems."
            ],
            "text/plain": [
              "<class 'statsmodels.iolib.summary.Summary'>\n",
              "\"\"\"\n",
              "                            OLS Regression Results                            \n",
              "==============================================================================\n",
              "Dep. Variable:                  crime   R-squared:                       0.186\n",
              "Model:                            OLS   Adj. R-squared:                  0.165\n",
              "Method:                 Least Squares   F-statistic:                     8.926\n",
              "Date:                Tue, 31 May 2022   Prob (F-statistic):            0.00484\n",
              "Time:                        01:23:48   Log-Likelihood:                -388.68\n",
              "No. Observations:                  41   AIC:                             781.4\n",
              "Df Residuals:                      39   BIC:                             784.8\n",
              "Df Model:                           1                                         \n",
              "Covariance Type:            nonrobust                                         \n",
              "==============================================================================\n",
              "                 coef    std err          t      P>|t|      [0.025      0.975]\n",
              "------------------------------------------------------------------------------\n",
              "const       2111.9074   1247.966      1.692      0.099    -412.343    4636.158\n",
              "OPH            0.0668      0.022      2.988      0.005       0.022       0.112\n",
              "==============================================================================\n",
              "Omnibus:                        4.966   Durbin-Watson:                   0.807\n",
              "Prob(Omnibus):                  0.084   Jarque-Bera (JB):                4.620\n",
              "Skew:                           0.817   Prob(JB):                       0.0993\n",
              "Kurtosis:                       2.812   Cond. No.                     1.37e+05\n",
              "==============================================================================\n",
              "\n",
              "Notes:\n",
              "[1] Standard Errors assume that the covariance matrix of the errors is correctly specified.\n",
              "[2] The condition number is large, 1.37e+05. This might indicate that there are\n",
              "strong multicollinearity or other numerical problems.\n",
              "\"\"\""
            ]
          },
          "execution_count": 28,
          "metadata": {},
          "output_type": "execute_result"
        }
      ],
      "source": [
        "result1_3 = sm.OLS(y, sm.add_constant(x)).fit()\n",
        "result1_3.summary()"
      ]
    },
    {
      "cell_type": "markdown",
      "id": "d577f9f0",
      "metadata": {
        "id": "d577f9f0"
      },
      "source": [
        "### 1-4. Elementary School"
      ]
    },
    {
      "cell_type": "code",
      "execution_count": null,
      "id": "29551ae7",
      "metadata": {
        "id": "29551ae7",
        "outputId": "2009dd57-7a72-4c2c-ecfc-2a7558a660c8"
      },
      "outputs": [
        {
          "data": {
            "text/plain": [
              "LinearRegression()"
            ]
          },
          "execution_count": 29,
          "metadata": {},
          "output_type": "execute_result"
        }
      ],
      "source": [
        "x=basic_removed['elementaryschool']\n",
        "y=basic_removed['crime']\n",
        "lin_reg.fit(x.values.reshape(-1,1),y)"
      ]
    },
    {
      "cell_type": "code",
      "execution_count": null,
      "id": "b6f0ed85",
      "metadata": {
        "id": "b6f0ed85",
        "outputId": "5c8e29cc-713b-4fb1-9874-f5b5cc12743b"
      },
      "outputs": [
        {
          "data": {
            "image/png": "[encoded data removed]",
            "text/plain": [
              "<Figure size 432x288 with 1 Axes>"
            ]
          },
          "metadata": {},
          "output_type": "display_data"
        }
      ],
      "source": [
        "plt.plot(x,y,'o')\n",
        "plt.plot(x,lin_reg.predict(x.values.reshape(-1,1)))\n",
        "plt.show()"
      ]
    },
    {
      "cell_type": "code",
      "execution_count": null,
      "id": "31bb9cc0",
      "metadata": {
        "id": "31bb9cc0",
        "outputId": "d41baef7-af7a-4f7e-e9c4-59a2235781a8"
      },
      "outputs": [
        {
          "name": "stdout",
          "output_type": "stream",
          "text": [
            "y= [209.72122363]*x + -164.6897426421183\n"
          ]
        }
      ],
      "source": [
        "print(f'y= {lin_reg.coef_}*x + {lin_reg.intercept_}')"
      ]
    },
    {
      "cell_type": "code",
      "execution_count": null,
      "id": "3cb722ba",
      "metadata": {
        "id": "3cb722ba",
        "outputId": "44298807-1710-477c-8e80-2db036ee8734"
      },
      "outputs": [
        {
          "name": "stderr",
          "output_type": "stream",
          "text": [
            "C:\\Users\\Hyoung\\anaconda3\\envs\\aidemy\\lib\\site-packages\\seaborn\\distributions.py:2619: FutureWarning: `distplot` is a deprecated function and will be removed in a future version. Please adapt your code to use either `displot` (a figure-level function with similar flexibility) or `histplot` (an axes-level function for histograms).\n",
            "  warnings.warn(msg, FutureWarning)\n"
          ]
        },
        {
          "data": {
            "text/plain": [
              "<AxesSubplot:xlabel='elementaryschool', ylabel='Density'>"
            ]
          },
          "execution_count": 32,
          "metadata": {},
          "output_type": "execute_result"
        },
        {
          "data": {
            "image/png": "[encoded data removed]",
            "text/plain": [
              "<Figure size 432x288 with 1 Axes>"
            ]
          },
          "metadata": {},
          "output_type": "display_data"
        }
      ],
      "source": [
        "sns.distplot(basic_removed['elementaryschool'])"
      ]
    },
    {
      "cell_type": "code",
      "execution_count": null,
      "id": "374c56ae",
      "metadata": {
        "id": "374c56ae",
        "outputId": "bd8685ff-0c3c-4be0-c378-dbdfe013379b"
      },
      "outputs": [
        {
          "data": {
            "text/html": [
              "<table class=\"simpletable\">\n",
              "<caption>OLS Regression Results</caption>\n",
              "<tr>\n",
              "  <th>Dep. Variable:</th>          <td>crime</td>      <th>  R-squared:         </th> <td>   0.505</td>\n",
              "</tr>\n",
              "<tr>\n",
              "  <th>Model:</th>                   <td>OLS</td>       <th>  Adj. R-squared:    </th> <td>   0.492</td>\n",
              "</tr>\n",
              "<tr>\n",
              "  <th>Method:</th>             <td>Least Squares</td>  <th>  F-statistic:       </th> <td>   39.76</td>\n",
              "</tr>\n",
              "<tr>\n",
              "  <th>Date:</th>             <td>Tue, 31 May 2022</td> <th>  Prob (F-statistic):</th> <td>1.95e-07</td>\n",
              "</tr>\n",
              "<tr>\n",
              "  <th>Time:</th>                 <td>01:25:44</td>     <th>  Log-Likelihood:    </th> <td> -378.50</td>\n",
              "</tr>\n",
              "<tr>\n",
              "  <th>No. Observations:</th>      <td>    41</td>      <th>  AIC:               </th> <td>   761.0</td>\n",
              "</tr>\n",
              "<tr>\n",
              "  <th>Df Residuals:</th>          <td>    39</td>      <th>  BIC:               </th> <td>   764.4</td>\n",
              "</tr>\n",
              "<tr>\n",
              "  <th>Df Model:</th>              <td>     1</td>      <th>                     </th>     <td> </td>   \n",
              "</tr>\n",
              "<tr>\n",
              "  <th>Covariance Type:</th>      <td>nonrobust</td>    <th>                     </th>     <td> </td>   \n",
              "</tr>\n",
              "</table>\n",
              "<table class=\"simpletable\">\n",
              "<tr>\n",
              "          <td></td>            <th>coef</th>     <th>std err</th>      <th>t</th>      <th>P>|t|</th>  <th>[0.025</th>    <th>0.975]</th>  \n",
              "</tr>\n",
              "<tr>\n",
              "  <th>const</th>            <td> -164.6897</td> <td>  984.365</td> <td>   -0.167</td> <td> 0.868</td> <td>-2155.755</td> <td> 1826.376</td>\n",
              "</tr>\n",
              "<tr>\n",
              "  <th>elementaryschool</th> <td>  209.7212</td> <td>   33.260</td> <td>    6.306</td> <td> 0.000</td> <td>  142.447</td> <td>  276.996</td>\n",
              "</tr>\n",
              "</table>\n",
              "<table class=\"simpletable\">\n",
              "<tr>\n",
              "  <th>Omnibus:</th>       <td> 7.748</td> <th>  Durbin-Watson:     </th> <td>   1.367</td>\n",
              "</tr>\n",
              "<tr>\n",
              "  <th>Prob(Omnibus):</th> <td> 0.021</td> <th>  Jarque-Bera (JB):  </th> <td>   6.508</td>\n",
              "</tr>\n",
              "<tr>\n",
              "  <th>Skew:</th>          <td> 0.863</td> <th>  Prob(JB):          </th> <td>  0.0386</td>\n",
              "</tr>\n",
              "<tr>\n",
              "  <th>Kurtosis:</th>      <td> 3.913</td> <th>  Cond. No.          </th> <td>    73.7</td>\n",
              "</tr>\n",
              "</table><br/><br/>Notes:<br/>[1] Standard Errors assume that the covariance matrix of the errors is correctly specified."
            ],
            "text/plain": [
              "<class 'statsmodels.iolib.summary.Summary'>\n",
              "\"\"\"\n",
              "                            OLS Regression Results                            \n",
              "==============================================================================\n",
              "Dep. Variable:                  crime   R-squared:                       0.505\n",
              "Model:                            OLS   Adj. R-squared:                  0.492\n",
              "Method:                 Least Squares   F-statistic:                     39.76\n",
              "Date:                Tue, 31 May 2022   Prob (F-statistic):           1.95e-07\n",
              "Time:                        01:25:44   Log-Likelihood:                -378.50\n",
              "No. Observations:                  41   AIC:                             761.0\n",
              "Df Residuals:                      39   BIC:                             764.4\n",
              "Df Model:                           1                                         \n",
              "Covariance Type:            nonrobust                                         \n",
              "====================================================================================\n",
              "                       coef    std err          t      P>|t|      [0.025      0.975]\n",
              "------------------------------------------------------------------------------------\n",
              "const             -164.6897    984.365     -0.167      0.868   -2155.755    1826.376\n",
              "elementaryschool   209.7212     33.260      6.306      0.000     142.447     276.996\n",
              "==============================================================================\n",
              "Omnibus:                        7.748   Durbin-Watson:                   1.367\n",
              "Prob(Omnibus):                  0.021   Jarque-Bera (JB):                6.508\n",
              "Skew:                           0.863   Prob(JB):                       0.0386\n",
              "Kurtosis:                       3.913   Cond. No.                         73.7\n",
              "==============================================================================\n",
              "\n",
              "Notes:\n",
              "[1] Standard Errors assume that the covariance matrix of the errors is correctly specified.\n",
              "\"\"\""
            ]
          },
          "execution_count": 33,
          "metadata": {},
          "output_type": "execute_result"
        }
      ],
      "source": [
        "result1_4 = sm.OLS(y, sm.add_constant(x)).fit()\n",
        "result1_4.summary()"
      ]
    },
    {
      "cell_type": "markdown",
      "id": "6200c3a7",
      "metadata": {
        "id": "6200c3a7"
      },
      "source": [
        "### 1-5. Street Light"
      ]
    },
    {
      "cell_type": "code",
      "execution_count": null,
      "id": "ad7f09a2",
      "metadata": {
        "id": "ad7f09a2",
        "outputId": "c5c5b1a3-5da0-4fa3-cd20-2d325ec4604d"
      },
      "outputs": [
        {
          "data": {
            "text/plain": [
              "LinearRegression()"
            ]
          },
          "execution_count": 34,
          "metadata": {},
          "output_type": "execute_result"
        }
      ],
      "source": [
        "x=basic_removed['streetlight']\n",
        "y=basic_removed['crime']\n",
        "lin_reg.fit(x.values.reshape(-1,1),y)"
      ]
    },
    {
      "cell_type": "code",
      "execution_count": null,
      "id": "8acc977b",
      "metadata": {
        "scrolled": true,
        "id": "8acc977b",
        "outputId": "f2d291f5-68a3-443a-840e-9dff78de619e"
      },
      "outputs": [
        {
          "data": {
            "image/png": "[encoded data removed]",
            "text/plain": [
              "<Figure size 432x288 with 1 Axes>"
            ]
          },
          "metadata": {},
          "output_type": "display_data"
        }
      ],
      "source": [
        "plt.plot(x,y,'o')\n",
        "plt.plot(x,lin_reg.predict(x.values.reshape(-1,1)))\n",
        "plt.show()"
      ]
    },
    {
      "cell_type": "code",
      "execution_count": null,
      "id": "76ac5d6c",
      "metadata": {
        "id": "76ac5d6c",
        "outputId": "0d8bd620-b645-4a1e-d36a-075fb097af74"
      },
      "outputs": [
        {
          "name": "stdout",
          "output_type": "stream",
          "text": [
            "y= [0.49205606]*x + 1369.551273700693\n"
          ]
        }
      ],
      "source": [
        "print(f'y= {lin_reg.coef_}*x + {lin_reg.intercept_}')"
      ]
    },
    {
      "cell_type": "code",
      "execution_count": null,
      "id": "393848ae",
      "metadata": {
        "id": "393848ae",
        "outputId": "d74b2463-4614-413a-d8e4-7076f70b2587"
      },
      "outputs": [
        {
          "name": "stderr",
          "output_type": "stream",
          "text": [
            "C:\\Users\\Hyoung\\anaconda3\\envs\\aidemy\\lib\\site-packages\\seaborn\\distributions.py:2619: FutureWarning: `distplot` is a deprecated function and will be removed in a future version. Please adapt your code to use either `displot` (a figure-level function with similar flexibility) or `histplot` (an axes-level function for histograms).\n",
            "  warnings.warn(msg, FutureWarning)\n"
          ]
        },
        {
          "data": {
            "text/plain": [
              "<AxesSubplot:xlabel='streetlight', ylabel='Density'>"
            ]
          },
          "execution_count": 37,
          "metadata": {},
          "output_type": "execute_result"
        },
        {
          "data": {
            "image/png": "[encoded data removed]",
            "text/plain": [
              "<Figure size 432x288 with 1 Axes>"
            ]
          },
          "metadata": {},
          "output_type": "display_data"
        }
      ],
      "source": [
        "sns.distplot(basic_removed['streetlight'])"
      ]
    },
    {
      "cell_type": "code",
      "execution_count": null,
      "id": "c773e276",
      "metadata": {
        "id": "c773e276",
        "outputId": "f1ec8abd-c9e6-432d-d0f7-268e1f479030"
      },
      "outputs": [
        {
          "data": {
            "text/html": [
              "<table class=\"simpletable\">\n",
              "<caption>OLS Regression Results</caption>\n",
              "<tr>\n",
              "  <th>Dep. Variable:</th>          <td>crime</td>      <th>  R-squared:         </th> <td>   0.311</td>\n",
              "</tr>\n",
              "<tr>\n",
              "  <th>Model:</th>                   <td>OLS</td>       <th>  Adj. R-squared:    </th> <td>   0.294</td>\n",
              "</tr>\n",
              "<tr>\n",
              "  <th>Method:</th>             <td>Least Squares</td>  <th>  F-statistic:       </th> <td>   17.64</td>\n",
              "</tr>\n",
              "<tr>\n",
              "  <th>Date:</th>             <td>Tue, 31 May 2022</td> <th>  Prob (F-statistic):</th> <td>0.000150</td>\n",
              "</tr>\n",
              "<tr>\n",
              "  <th>Time:</th>                 <td>01:26:40</td>     <th>  Log-Likelihood:    </th> <td> -385.26</td>\n",
              "</tr>\n",
              "<tr>\n",
              "  <th>No. Observations:</th>      <td>    41</td>      <th>  AIC:               </th> <td>   774.5</td>\n",
              "</tr>\n",
              "<tr>\n",
              "  <th>Df Residuals:</th>          <td>    39</td>      <th>  BIC:               </th> <td>   777.9</td>\n",
              "</tr>\n",
              "<tr>\n",
              "  <th>Df Model:</th>              <td>     1</td>      <th>                     </th>     <td> </td>   \n",
              "</tr>\n",
              "<tr>\n",
              "  <th>Covariance Type:</th>      <td>nonrobust</td>    <th>                     </th>     <td> </td>   \n",
              "</tr>\n",
              "</table>\n",
              "<table class=\"simpletable\">\n",
              "<tr>\n",
              "       <td></td>          <th>coef</th>     <th>std err</th>      <th>t</th>      <th>P>|t|</th>  <th>[0.025</th>    <th>0.975]</th>  \n",
              "</tr>\n",
              "<tr>\n",
              "  <th>const</th>       <td> 1369.5513</td> <td> 1092.466</td> <td>    1.254</td> <td> 0.217</td> <td> -840.169</td> <td> 3579.272</td>\n",
              "</tr>\n",
              "<tr>\n",
              "  <th>streetlight</th> <td>    0.4921</td> <td>    0.117</td> <td>    4.200</td> <td> 0.000</td> <td>    0.255</td> <td>    0.729</td>\n",
              "</tr>\n",
              "</table>\n",
              "<table class=\"simpletable\">\n",
              "<tr>\n",
              "  <th>Omnibus:</th>       <td>17.342</td> <th>  Durbin-Watson:     </th> <td>   1.674</td>\n",
              "</tr>\n",
              "<tr>\n",
              "  <th>Prob(Omnibus):</th> <td> 0.000</td> <th>  Jarque-Bera (JB):  </th> <td>  20.385</td>\n",
              "</tr>\n",
              "<tr>\n",
              "  <th>Skew:</th>          <td> 1.477</td> <th>  Prob(JB):          </th> <td>3.74e-05</td>\n",
              "</tr>\n",
              "<tr>\n",
              "  <th>Kurtosis:</th>      <td> 4.791</td> <th>  Cond. No.          </th> <td>2.18e+04</td>\n",
              "</tr>\n",
              "</table><br/><br/>Notes:<br/>[1] Standard Errors assume that the covariance matrix of the errors is correctly specified.<br/>[2] The condition number is large, 2.18e+04. This might indicate that there are<br/>strong multicollinearity or other numerical problems."
            ],
            "text/plain": [
              "<class 'statsmodels.iolib.summary.Summary'>\n",
              "\"\"\"\n",
              "                            OLS Regression Results                            \n",
              "==============================================================================\n",
              "Dep. Variable:                  crime   R-squared:                       0.311\n",
              "Model:                            OLS   Adj. R-squared:                  0.294\n",
              "Method:                 Least Squares   F-statistic:                     17.64\n",
              "Date:                Tue, 31 May 2022   Prob (F-statistic):           0.000150\n",
              "Time:                        01:26:40   Log-Likelihood:                -385.26\n",
              "No. Observations:                  41   AIC:                             774.5\n",
              "Df Residuals:                      39   BIC:                             777.9\n",
              "Df Model:                           1                                         \n",
              "Covariance Type:            nonrobust                                         \n",
              "===============================================================================\n",
              "                  coef    std err          t      P>|t|      [0.025      0.975]\n",
              "-------------------------------------------------------------------------------\n",
              "const        1369.5513   1092.466      1.254      0.217    -840.169    3579.272\n",
              "streetlight     0.4921      0.117      4.200      0.000       0.255       0.729\n",
              "==============================================================================\n",
              "Omnibus:                       17.342   Durbin-Watson:                   1.674\n",
              "Prob(Omnibus):                  0.000   Jarque-Bera (JB):               20.385\n",
              "Skew:                           1.477   Prob(JB):                     3.74e-05\n",
              "Kurtosis:                       4.791   Cond. No.                     2.18e+04\n",
              "==============================================================================\n",
              "\n",
              "Notes:\n",
              "[1] Standard Errors assume that the covariance matrix of the errors is correctly specified.\n",
              "[2] The condition number is large, 2.18e+04. This might indicate that there are\n",
              "strong multicollinearity or other numerical problems.\n",
              "\"\"\""
            ]
          },
          "execution_count": 38,
          "metadata": {},
          "output_type": "execute_result"
        }
      ],
      "source": [
        "result1_5 = sm.OLS(y, sm.add_constant(x)).fit()\n",
        "result1_5.summary()"
      ]
    },
    {
      "cell_type": "markdown",
      "id": "14697a9f",
      "metadata": {
        "id": "14697a9f"
      },
      "source": [
        "### 1-6. Police Station"
      ]
    },
    {
      "cell_type": "code",
      "execution_count": null,
      "id": "d7fc3364",
      "metadata": {
        "id": "d7fc3364",
        "outputId": "b96eff8f-0e25-456d-d135-c0273fe96313"
      },
      "outputs": [
        {
          "data": {
            "text/plain": [
              "LinearRegression()"
            ]
          },
          "execution_count": 39,
          "metadata": {},
          "output_type": "execute_result"
        }
      ],
      "source": [
        "x=basic_removed['policestation']\n",
        "y=basic_removed['crime']\n",
        "lin_reg.fit(x.values.reshape(-1,1),y)"
      ]
    },
    {
      "cell_type": "code",
      "execution_count": null,
      "id": "653457c8",
      "metadata": {
        "id": "653457c8",
        "outputId": "845e581d-9d17-48c9-9bb7-18f6dd9b74db"
      },
      "outputs": [
        {
          "data": {
            "image/png": "[encoded data removed]",
            "text/plain": [
              "<Figure size 432x288 with 1 Axes>"
            ]
          },
          "metadata": {},
          "output_type": "display_data"
        }
      ],
      "source": [
        "plt.plot(x,y,'o')\n",
        "plt.plot(x,lin_reg.predict(x.values.reshape(-1,1)))\n",
        "plt.show()"
      ]
    },
    {
      "cell_type": "code",
      "execution_count": null,
      "id": "1cc333f0",
      "metadata": {
        "id": "1cc333f0",
        "outputId": "a0a20425-c0ea-4832-ad52-13d49e0f93b9"
      },
      "outputs": [
        {
          "name": "stdout",
          "output_type": "stream",
          "text": [
            "y= [-140.62832296]*x + 7421.871201025266\n"
          ]
        }
      ],
      "source": [
        "print(f'y= {lin_reg.coef_}*x + {lin_reg.intercept_}')"
      ]
    },
    {
      "cell_type": "code",
      "execution_count": null,
      "id": "61236be3",
      "metadata": {
        "id": "61236be3",
        "outputId": "afc92ad1-777f-4664-8bae-28d1d6a3d025"
      },
      "outputs": [
        {
          "name": "stderr",
          "output_type": "stream",
          "text": [
            "C:\\Users\\Hyoung\\anaconda3\\envs\\aidemy\\lib\\site-packages\\seaborn\\distributions.py:2619: FutureWarning: `distplot` is a deprecated function and will be removed in a future version. Please adapt your code to use either `displot` (a figure-level function with similar flexibility) or `histplot` (an axes-level function for histograms).\n",
            "  warnings.warn(msg, FutureWarning)\n"
          ]
        },
        {
          "data": {
            "text/plain": [
              "<AxesSubplot:xlabel='policestation', ylabel='Density'>"
            ]
          },
          "execution_count": 42,
          "metadata": {},
          "output_type": "execute_result"
        },
        {
          "data": {
            "image/png": "[encoded data removed]",
            "text/plain": [
              "<Figure size 432x288 with 1 Axes>"
            ]
          },
          "metadata": {},
          "output_type": "display_data"
        }
      ],
      "source": [
        "sns.distplot(basic_removed['policestation'])"
      ]
    },
    {
      "cell_type": "code",
      "execution_count": null,
      "id": "fcb471e0",
      "metadata": {
        "scrolled": true,
        "id": "fcb471e0",
        "outputId": "c4e1c84d-c00b-46d1-a6a6-f9dcfdc8e7d2"
      },
      "outputs": [
        {
          "data": {
            "text/html": [
              "<table class=\"simpletable\">\n",
              "<caption>OLS Regression Results</caption>\n",
              "<tr>\n",
              "  <th>Dep. Variable:</th>          <td>crime</td>      <th>  R-squared:         </th> <td>   0.052</td>\n",
              "</tr>\n",
              "<tr>\n",
              "  <th>Model:</th>                   <td>OLS</td>       <th>  Adj. R-squared:    </th> <td>   0.028</td>\n",
              "</tr>\n",
              "<tr>\n",
              "  <th>Method:</th>             <td>Least Squares</td>  <th>  F-statistic:       </th> <td>   2.142</td>\n",
              "</tr>\n",
              "<tr>\n",
              "  <th>Date:</th>             <td>Tue, 31 May 2022</td> <th>  Prob (F-statistic):</th>  <td> 0.151</td> \n",
              "</tr>\n",
              "<tr>\n",
              "  <th>Time:</th>                 <td>01:30:35</td>     <th>  Log-Likelihood:    </th> <td> -391.81</td>\n",
              "</tr>\n",
              "<tr>\n",
              "  <th>No. Observations:</th>      <td>    41</td>      <th>  AIC:               </th> <td>   787.6</td>\n",
              "</tr>\n",
              "<tr>\n",
              "  <th>Df Residuals:</th>          <td>    39</td>      <th>  BIC:               </th> <td>   791.1</td>\n",
              "</tr>\n",
              "<tr>\n",
              "  <th>Df Model:</th>              <td>     1</td>      <th>                     </th>     <td> </td>   \n",
              "</tr>\n",
              "<tr>\n",
              "  <th>Covariance Type:</th>      <td>nonrobust</td>    <th>                     </th>     <td> </td>   \n",
              "</tr>\n",
              "</table>\n",
              "<table class=\"simpletable\">\n",
              "<tr>\n",
              "        <td></td>           <th>coef</th>     <th>std err</th>      <th>t</th>      <th>P>|t|</th>  <th>[0.025</th>    <th>0.975]</th>  \n",
              "</tr>\n",
              "<tr>\n",
              "  <th>const</th>         <td> 7421.8712</td> <td> 1411.242</td> <td>    5.259</td> <td> 0.000</td> <td> 4567.364</td> <td> 1.03e+04</td>\n",
              "</tr>\n",
              "<tr>\n",
              "  <th>policestation</th> <td> -140.6283</td> <td>   96.083</td> <td>   -1.464</td> <td> 0.151</td> <td> -334.974</td> <td>   53.717</td>\n",
              "</tr>\n",
              "</table>\n",
              "<table class=\"simpletable\">\n",
              "<tr>\n",
              "  <th>Omnibus:</th>       <td>13.314</td> <th>  Durbin-Watson:     </th> <td>   1.701</td>\n",
              "</tr>\n",
              "<tr>\n",
              "  <th>Prob(Omnibus):</th> <td> 0.001</td> <th>  Jarque-Bera (JB):  </th> <td>  13.661</td>\n",
              "</tr>\n",
              "<tr>\n",
              "  <th>Skew:</th>          <td> 1.288</td> <th>  Prob(JB):          </th> <td> 0.00108</td>\n",
              "</tr>\n",
              "<tr>\n",
              "  <th>Kurtosis:</th>      <td> 4.167</td> <th>  Cond. No.          </th> <td>    38.0</td>\n",
              "</tr>\n",
              "</table><br/><br/>Notes:<br/>[1] Standard Errors assume that the covariance matrix of the errors is correctly specified."
            ],
            "text/plain": [
              "<class 'statsmodels.iolib.summary.Summary'>\n",
              "\"\"\"\n",
              "                            OLS Regression Results                            \n",
              "==============================================================================\n",
              "Dep. Variable:                  crime   R-squared:                       0.052\n",
              "Model:                            OLS   Adj. R-squared:                  0.028\n",
              "Method:                 Least Squares   F-statistic:                     2.142\n",
              "Date:                Tue, 31 May 2022   Prob (F-statistic):              0.151\n",
              "Time:                        01:30:35   Log-Likelihood:                -391.81\n",
              "No. Observations:                  41   AIC:                             787.6\n",
              "Df Residuals:                      39   BIC:                             791.1\n",
              "Df Model:                           1                                         \n",
              "Covariance Type:            nonrobust                                         \n",
              "=================================================================================\n",
              "                    coef    std err          t      P>|t|      [0.025      0.975]\n",
              "---------------------------------------------------------------------------------\n",
              "const          7421.8712   1411.242      5.259      0.000    4567.364    1.03e+04\n",
              "policestation  -140.6283     96.083     -1.464      0.151    -334.974      53.717\n",
              "==============================================================================\n",
              "Omnibus:                       13.314   Durbin-Watson:                   1.701\n",
              "Prob(Omnibus):                  0.001   Jarque-Bera (JB):               13.661\n",
              "Skew:                           1.288   Prob(JB):                      0.00108\n",
              "Kurtosis:                       4.167   Cond. No.                         38.0\n",
              "==============================================================================\n",
              "\n",
              "Notes:\n",
              "[1] Standard Errors assume that the covariance matrix of the errors is correctly specified.\n",
              "\"\"\""
            ]
          },
          "execution_count": 43,
          "metadata": {},
          "output_type": "execute_result"
        }
      ],
      "source": [
        "result1_6 = sm.OLS(y, sm.add_constant(x)).fit()\n",
        "result1_6.summary()"
      ]
    },
    {
      "cell_type": "markdown",
      "id": "1b2358f3",
      "metadata": {
        "id": "1b2358f3"
      },
      "source": [
        "### 1-7. CCTV"
      ]
    },
    {
      "cell_type": "code",
      "execution_count": null,
      "id": "bc11bccb",
      "metadata": {
        "id": "bc11bccb",
        "outputId": "34c9bea6-6f20-4b14-d6d1-d44259bffc2b"
      },
      "outputs": [
        {
          "data": {
            "text/plain": [
              "LinearRegression()"
            ]
          },
          "execution_count": 44,
          "metadata": {},
          "output_type": "execute_result"
        }
      ],
      "source": [
        "x=basic_removed['cctv']\n",
        "y=basic_removed['crime']\n",
        "lin_reg.fit(x.values.reshape(-1,1),y)"
      ]
    },
    {
      "cell_type": "code",
      "execution_count": null,
      "id": "41378ed2",
      "metadata": {
        "id": "41378ed2",
        "outputId": "52a27a05-b614-42c8-d5c2-5c3fcc3ce1ca"
      },
      "outputs": [
        {
          "data": {
            "image/png": "[encoded data removed]",
            "text/plain": [
              "<Figure size 432x288 with 1 Axes>"
            ]
          },
          "metadata": {},
          "output_type": "display_data"
        }
      ],
      "source": [
        "plt.plot(x,y,'o')\n",
        "plt.plot(x,lin_reg.predict(x.values.reshape(-1,1)))\n",
        "plt.show()"
      ]
    },
    {
      "cell_type": "code",
      "execution_count": null,
      "id": "62481ea7",
      "metadata": {
        "id": "62481ea7",
        "outputId": "f498405f-c3e9-409b-b2ac-0531749c8ef2"
      },
      "outputs": [
        {
          "name": "stdout",
          "output_type": "stream",
          "text": [
            "y= [0.70404299]*x + 3481.5849185768966\n"
          ]
        }
      ],
      "source": [
        "print(f'y= {lin_reg.coef_}*x + {lin_reg.intercept_}')"
      ]
    },
    {
      "cell_type": "code",
      "execution_count": null,
      "id": "87f26868",
      "metadata": {
        "id": "87f26868",
        "outputId": "105e9984-d32c-459d-ea2e-1eb6de132c83"
      },
      "outputs": [
        {
          "name": "stderr",
          "output_type": "stream",
          "text": [
            "C:\\Users\\Hyoung\\anaconda3\\envs\\aidemy\\lib\\site-packages\\seaborn\\distributions.py:2619: FutureWarning: `distplot` is a deprecated function and will be removed in a future version. Please adapt your code to use either `displot` (a figure-level function with similar flexibility) or `histplot` (an axes-level function for histograms).\n",
            "  warnings.warn(msg, FutureWarning)\n"
          ]
        },
        {
          "data": {
            "text/plain": [
              "<AxesSubplot:xlabel='cctv', ylabel='Density'>"
            ]
          },
          "execution_count": 47,
          "metadata": {},
          "output_type": "execute_result"
        },
        {
          "data": {
            "image/png": "[encoded data removed]",
            "text/plain": [
              "<Figure size 432x288 with 1 Axes>"
            ]
          },
          "metadata": {},
          "output_type": "display_data"
        }
      ],
      "source": [
        "sns.distplot(basic_removed['cctv'])"
      ]
    },
    {
      "cell_type": "code",
      "execution_count": null,
      "id": "9c0a0603",
      "metadata": {
        "scrolled": true,
        "id": "9c0a0603",
        "outputId": "455713e2-fc29-4123-b468-ccc996ab49eb"
      },
      "outputs": [
        {
          "data": {
            "text/html": [
              "<table class=\"simpletable\">\n",
              "<caption>OLS Regression Results</caption>\n",
              "<tr>\n",
              "  <th>Dep. Variable:</th>          <td>crime</td>      <th>  R-squared:         </th> <td>   0.054</td>\n",
              "</tr>\n",
              "<tr>\n",
              "  <th>Model:</th>                   <td>OLS</td>       <th>  Adj. R-squared:    </th> <td>   0.030</td>\n",
              "</tr>\n",
              "<tr>\n",
              "  <th>Method:</th>             <td>Least Squares</td>  <th>  F-statistic:       </th> <td>   2.230</td>\n",
              "</tr>\n",
              "<tr>\n",
              "  <th>Date:</th>             <td>Tue, 31 May 2022</td> <th>  Prob (F-statistic):</th>  <td> 0.143</td> \n",
              "</tr>\n",
              "<tr>\n",
              "  <th>Time:</th>                 <td>01:32:50</td>     <th>  Log-Likelihood:    </th> <td> -391.77</td>\n",
              "</tr>\n",
              "<tr>\n",
              "  <th>No. Observations:</th>      <td>    41</td>      <th>  AIC:               </th> <td>   787.5</td>\n",
              "</tr>\n",
              "<tr>\n",
              "  <th>Df Residuals:</th>          <td>    39</td>      <th>  BIC:               </th> <td>   791.0</td>\n",
              "</tr>\n",
              "<tr>\n",
              "  <th>Df Model:</th>              <td>     1</td>      <th>                     </th>     <td> </td>   \n",
              "</tr>\n",
              "<tr>\n",
              "  <th>Covariance Type:</th>      <td>nonrobust</td>    <th>                     </th>     <td> </td>   \n",
              "</tr>\n",
              "</table>\n",
              "<table class=\"simpletable\">\n",
              "<tr>\n",
              "    <td></td>       <th>coef</th>     <th>std err</th>      <th>t</th>      <th>P>|t|</th>  <th>[0.025</th>    <th>0.975]</th>  \n",
              "</tr>\n",
              "<tr>\n",
              "  <th>const</th> <td> 3481.5849</td> <td> 1469.396</td> <td>    2.369</td> <td> 0.023</td> <td>  509.451</td> <td> 6453.718</td>\n",
              "</tr>\n",
              "<tr>\n",
              "  <th>cctv</th>  <td>    0.7040</td> <td>    0.471</td> <td>    1.493</td> <td> 0.143</td> <td>   -0.250</td> <td>    1.658</td>\n",
              "</tr>\n",
              "</table>\n",
              "<table class=\"simpletable\">\n",
              "<tr>\n",
              "  <th>Omnibus:</th>       <td>11.048</td> <th>  Durbin-Watson:     </th> <td>   1.170</td>\n",
              "</tr>\n",
              "<tr>\n",
              "  <th>Prob(Omnibus):</th> <td> 0.004</td> <th>  Jarque-Bera (JB):  </th> <td>  11.014</td>\n",
              "</tr>\n",
              "<tr>\n",
              "  <th>Skew:</th>          <td> 1.240</td> <th>  Prob(JB):          </th> <td> 0.00406</td>\n",
              "</tr>\n",
              "<tr>\n",
              "  <th>Kurtosis:</th>      <td> 3.545</td> <th>  Cond. No.          </th> <td>8.37e+03</td>\n",
              "</tr>\n",
              "</table><br/><br/>Notes:<br/>[1] Standard Errors assume that the covariance matrix of the errors is correctly specified.<br/>[2] The condition number is large, 8.37e+03. This might indicate that there are<br/>strong multicollinearity or other numerical problems."
            ],
            "text/plain": [
              "<class 'statsmodels.iolib.summary.Summary'>\n",
              "\"\"\"\n",
              "                            OLS Regression Results                            \n",
              "==============================================================================\n",
              "Dep. Variable:                  crime   R-squared:                       0.054\n",
              "Model:                            OLS   Adj. R-squared:                  0.030\n",
              "Method:                 Least Squares   F-statistic:                     2.230\n",
              "Date:                Tue, 31 May 2022   Prob (F-statistic):              0.143\n",
              "Time:                        01:32:50   Log-Likelihood:                -391.77\n",
              "No. Observations:                  41   AIC:                             787.5\n",
              "Df Residuals:                      39   BIC:                             791.0\n",
              "Df Model:                           1                                         \n",
              "Covariance Type:            nonrobust                                         \n",
              "==============================================================================\n",
              "                 coef    std err          t      P>|t|      [0.025      0.975]\n",
              "------------------------------------------------------------------------------\n",
              "const       3481.5849   1469.396      2.369      0.023     509.451    6453.718\n",
              "cctv           0.7040      0.471      1.493      0.143      -0.250       1.658\n",
              "==============================================================================\n",
              "Omnibus:                       11.048   Durbin-Watson:                   1.170\n",
              "Prob(Omnibus):                  0.004   Jarque-Bera (JB):               11.014\n",
              "Skew:                           1.240   Prob(JB):                      0.00406\n",
              "Kurtosis:                       3.545   Cond. No.                     8.37e+03\n",
              "==============================================================================\n",
              "\n",
              "Notes:\n",
              "[1] Standard Errors assume that the covariance matrix of the errors is correctly specified.\n",
              "[2] The condition number is large, 8.37e+03. This might indicate that there are\n",
              "strong multicollinearity or other numerical problems.\n",
              "\"\"\""
            ]
          },
          "execution_count": 48,
          "metadata": {},
          "output_type": "execute_result"
        }
      ],
      "source": [
        "result1_7 = sm.OLS(y, sm.add_constant(x)).fit()\n",
        "result1_7.summary()"
      ]
    },
    {
      "cell_type": "markdown",
      "id": "12f6b175",
      "metadata": {
        "id": "12f6b175"
      },
      "source": [
        "### 1-8. Foreigner"
      ]
    },
    {
      "cell_type": "code",
      "execution_count": null,
      "id": "b914a998",
      "metadata": {
        "id": "b914a998",
        "outputId": "c345e085-d67e-433e-e0ff-182b433d81b5"
      },
      "outputs": [
        {
          "data": {
            "text/plain": [
              "LinearRegression()"
            ]
          },
          "execution_count": 49,
          "metadata": {},
          "output_type": "execute_result"
        }
      ],
      "source": [
        "x=basic_removed['foreigner']\n",
        "y=basic_removed['crime']\n",
        "lin_reg.fit(x.values.reshape(-1,1),y)"
      ]
    },
    {
      "cell_type": "code",
      "execution_count": null,
      "id": "bf19ec39",
      "metadata": {
        "id": "bf19ec39",
        "outputId": "145936d9-d6dc-48d4-cb31-97d4b0b1079c"
      },
      "outputs": [
        {
          "data": {
            "image/png": "[encoded data removed]",
            "text/plain": [
              "<Figure size 432x288 with 1 Axes>"
            ]
          },
          "metadata": {},
          "output_type": "display_data"
        }
      ],
      "source": [
        "plt.plot(x,y,'o')\n",
        "plt.plot(x,lin_reg.predict(x.values.reshape(-1,1)))\n",
        "plt.show()"
      ]
    },
    {
      "cell_type": "code",
      "execution_count": null,
      "id": "515a3f05",
      "metadata": {
        "id": "515a3f05",
        "outputId": "4076bfd4-fdea-4f97-fb9b-797fb351eb47"
      },
      "outputs": [
        {
          "name": "stdout",
          "output_type": "stream",
          "text": [
            "y= [0.0860797]*x + 4822.102633351059\n"
          ]
        }
      ],
      "source": [
        "print(f'y= {lin_reg.coef_}*x + {lin_reg.intercept_}')"
      ]
    },
    {
      "cell_type": "code",
      "execution_count": null,
      "id": "3b5310d0",
      "metadata": {
        "id": "3b5310d0",
        "outputId": "ae655eb9-8e81-4558-9dec-ecb1210c5e48"
      },
      "outputs": [
        {
          "name": "stderr",
          "output_type": "stream",
          "text": [
            "C:\\Users\\Hyoung\\anaconda3\\envs\\aidemy\\lib\\site-packages\\seaborn\\distributions.py:2619: FutureWarning: `distplot` is a deprecated function and will be removed in a future version. Please adapt your code to use either `displot` (a figure-level function with similar flexibility) or `histplot` (an axes-level function for histograms).\n",
            "  warnings.warn(msg, FutureWarning)\n"
          ]
        },
        {
          "data": {
            "text/plain": [
              "<AxesSubplot:xlabel='foreigner', ylabel='Density'>"
            ]
          },
          "execution_count": 52,
          "metadata": {},
          "output_type": "execute_result"
        },
        {
          "data": {
            "image/png": "[encoded data removed]",
            "text/plain": [
              "<Figure size 432x288 with 1 Axes>"
            ]
          },
          "metadata": {},
          "output_type": "display_data"
        }
      ],
      "source": [
        "sns.distplot(basic_removed['foreigner'])"
      ]
    },
    {
      "cell_type": "code",
      "execution_count": null,
      "id": "a25a068c",
      "metadata": {
        "scrolled": true,
        "id": "a25a068c",
        "outputId": "84ae5ff0-7acb-428b-c799-befa548c3e05"
      },
      "outputs": [
        {
          "data": {
            "text/html": [
              "<table class=\"simpletable\">\n",
              "<caption>OLS Regression Results</caption>\n",
              "<tr>\n",
              "  <th>Dep. Variable:</th>          <td>crime</td>      <th>  R-squared:         </th> <td>   0.018</td>\n",
              "</tr>\n",
              "<tr>\n",
              "  <th>Model:</th>                   <td>OLS</td>       <th>  Adj. R-squared:    </th> <td>  -0.007</td>\n",
              "</tr>\n",
              "<tr>\n",
              "  <th>Method:</th>             <td>Least Squares</td>  <th>  F-statistic:       </th> <td>  0.7185</td>\n",
              "</tr>\n",
              "<tr>\n",
              "  <th>Date:</th>             <td>Tue, 31 May 2022</td> <th>  Prob (F-statistic):</th>  <td> 0.402</td> \n",
              "</tr>\n",
              "<tr>\n",
              "  <th>Time:</th>                 <td>01:34:47</td>     <th>  Log-Likelihood:    </th> <td> -392.54</td>\n",
              "</tr>\n",
              "<tr>\n",
              "  <th>No. Observations:</th>      <td>    41</td>      <th>  AIC:               </th> <td>   789.1</td>\n",
              "</tr>\n",
              "<tr>\n",
              "  <th>Df Residuals:</th>          <td>    39</td>      <th>  BIC:               </th> <td>   792.5</td>\n",
              "</tr>\n",
              "<tr>\n",
              "  <th>Df Model:</th>              <td>     1</td>      <th>                     </th>     <td> </td>   \n",
              "</tr>\n",
              "<tr>\n",
              "  <th>Covariance Type:</th>      <td>nonrobust</td>    <th>                     </th>     <td> </td>   \n",
              "</tr>\n",
              "</table>\n",
              "<table class=\"simpletable\">\n",
              "<tr>\n",
              "      <td></td>         <th>coef</th>     <th>std err</th>      <th>t</th>      <th>P>|t|</th>  <th>[0.025</th>    <th>0.975]</th>  \n",
              "</tr>\n",
              "<tr>\n",
              "  <th>const</th>     <td> 4822.1026</td> <td>  992.559</td> <td>    4.858</td> <td> 0.000</td> <td> 2814.463</td> <td> 6829.742</td>\n",
              "</tr>\n",
              "<tr>\n",
              "  <th>foreigner</th> <td>    0.0861</td> <td>    0.102</td> <td>    0.848</td> <td> 0.402</td> <td>   -0.119</td> <td>    0.291</td>\n",
              "</tr>\n",
              "</table>\n",
              "<table class=\"simpletable\">\n",
              "<tr>\n",
              "  <th>Omnibus:</th>       <td>14.823</td> <th>  Durbin-Watson:     </th> <td>   1.345</td>\n",
              "</tr>\n",
              "<tr>\n",
              "  <th>Prob(Omnibus):</th> <td> 0.001</td> <th>  Jarque-Bera (JB):  </th> <td>  16.038</td>\n",
              "</tr>\n",
              "<tr>\n",
              "  <th>Skew:</th>          <td> 1.432</td> <th>  Prob(JB):          </th> <td>0.000329</td>\n",
              "</tr>\n",
              "<tr>\n",
              "  <th>Kurtosis:</th>      <td> 4.091</td> <th>  Cond. No.          </th> <td>1.74e+04</td>\n",
              "</tr>\n",
              "</table><br/><br/>Notes:<br/>[1] Standard Errors assume that the covariance matrix of the errors is correctly specified.<br/>[2] The condition number is large, 1.74e+04. This might indicate that there are<br/>strong multicollinearity or other numerical problems."
            ],
            "text/plain": [
              "<class 'statsmodels.iolib.summary.Summary'>\n",
              "\"\"\"\n",
              "                            OLS Regression Results                            \n",
              "==============================================================================\n",
              "Dep. Variable:                  crime   R-squared:                       0.018\n",
              "Model:                            OLS   Adj. R-squared:                 -0.007\n",
              "Method:                 Least Squares   F-statistic:                    0.7185\n",
              "Date:                Tue, 31 May 2022   Prob (F-statistic):              0.402\n",
              "Time:                        01:34:47   Log-Likelihood:                -392.54\n",
              "No. Observations:                  41   AIC:                             789.1\n",
              "Df Residuals:                      39   BIC:                             792.5\n",
              "Df Model:                           1                                         \n",
              "Covariance Type:            nonrobust                                         \n",
              "==============================================================================\n",
              "                 coef    std err          t      P>|t|      [0.025      0.975]\n",
              "------------------------------------------------------------------------------\n",
              "const       4822.1026    992.559      4.858      0.000    2814.463    6829.742\n",
              "foreigner      0.0861      0.102      0.848      0.402      -0.119       0.291\n",
              "==============================================================================\n",
              "Omnibus:                       14.823   Durbin-Watson:                   1.345\n",
              "Prob(Omnibus):                  0.001   Jarque-Bera (JB):               16.038\n",
              "Skew:                           1.432   Prob(JB):                     0.000329\n",
              "Kurtosis:                       4.091   Cond. No.                     1.74e+04\n",
              "==============================================================================\n",
              "\n",
              "Notes:\n",
              "[1] Standard Errors assume that the covariance matrix of the errors is correctly specified.\n",
              "[2] The condition number is large, 1.74e+04. This might indicate that there are\n",
              "strong multicollinearity or other numerical problems.\n",
              "\"\"\""
            ]
          },
          "execution_count": 53,
          "metadata": {},
          "output_type": "execute_result"
        }
      ],
      "source": [
        "result1_8 = sm.OLS(y, sm.add_constant(x)).fit()\n",
        "result1_8.summary()"
      ]
    },
    {
      "cell_type": "markdown",
      "id": "776ef62d",
      "metadata": {
        "id": "776ef62d"
      },
      "source": [
        "### 1-9. Per Capita Income - 1인당 소득"
      ]
    },
    {
      "cell_type": "code",
      "execution_count": null,
      "id": "5a54ab87",
      "metadata": {
        "id": "5a54ab87",
        "outputId": "45c61ae2-0034-4d66-a6aa-554f133398cc"
      },
      "outputs": [
        {
          "data": {
            "text/plain": [
              "LinearRegression()"
            ]
          },
          "execution_count": 54,
          "metadata": {},
          "output_type": "execute_result"
        }
      ],
      "source": [
        "x=basic_removed['per_capita_income']\n",
        "y=basic_removed['crime']\n",
        "lin_reg.fit(x.values.reshape(-1,1),y)"
      ]
    },
    {
      "cell_type": "code",
      "execution_count": null,
      "id": "0463dcd8",
      "metadata": {
        "id": "0463dcd8",
        "outputId": "4fcf7561-2e04-433b-c11a-607bccb3625e"
      },
      "outputs": [
        {
          "data": {
            "image/png": "[encoded data removed]",
            "text/plain": [
              "<Figure size 432x288 with 1 Axes>"
            ]
          },
          "metadata": {},
          "output_type": "display_data"
        }
      ],
      "source": [
        "plt.plot(x,y,'o')\n",
        "plt.plot(x,lin_reg.predict(x.values.reshape(-1,1)))\n",
        "plt.show()"
      ]
    },
    {
      "cell_type": "code",
      "execution_count": null,
      "id": "6ca8678a",
      "metadata": {
        "id": "6ca8678a",
        "outputId": "5dfc4dc5-6bd6-441f-dd8c-84b831963e98"
      },
      "outputs": [
        {
          "name": "stdout",
          "output_type": "stream",
          "text": [
            "y= [-0.14244607]*x + 10852.063946438022\n"
          ]
        }
      ],
      "source": [
        "print(f'y= {lin_reg.coef_}*x + {lin_reg.intercept_}')"
      ]
    },
    {
      "cell_type": "code",
      "execution_count": null,
      "id": "44252549",
      "metadata": {
        "id": "44252549",
        "outputId": "f3af43ab-9243-4d26-9226-83e2e4ce6f6e"
      },
      "outputs": [
        {
          "name": "stderr",
          "output_type": "stream",
          "text": [
            "C:\\Users\\Hyoung\\anaconda3\\envs\\aidemy\\lib\\site-packages\\seaborn\\distributions.py:2619: FutureWarning: `distplot` is a deprecated function and will be removed in a future version. Please adapt your code to use either `displot` (a figure-level function with similar flexibility) or `histplot` (an axes-level function for histograms).\n",
            "  warnings.warn(msg, FutureWarning)\n"
          ]
        },
        {
          "data": {
            "text/plain": [
              "<AxesSubplot:xlabel='per_capita_income', ylabel='Density'>"
            ]
          },
          "execution_count": 57,
          "metadata": {},
          "output_type": "execute_result"
        },
        {
          "data": {
            "image/png": "[encoded data removed]",
            "text/plain": [
              "<Figure size 432x288 with 1 Axes>"
            ]
          },
          "metadata": {},
          "output_type": "display_data"
        }
      ],
      "source": [
        "sns.distplot(basic_removed['per_capita_income'])"
      ]
    },
    {
      "cell_type": "code",
      "execution_count": null,
      "id": "e9ebafd5",
      "metadata": {
        "scrolled": true,
        "id": "e9ebafd5",
        "outputId": "7c5cfb8e-4e27-448c-ef00-241353430c80"
      },
      "outputs": [
        {
          "data": {
            "text/html": [
              "<table class=\"simpletable\">\n",
              "<caption>OLS Regression Results</caption>\n",
              "<tr>\n",
              "  <th>Dep. Variable:</th>          <td>crime</td>      <th>  R-squared:         </th> <td>   0.073</td>\n",
              "</tr>\n",
              "<tr>\n",
              "  <th>Model:</th>                   <td>OLS</td>       <th>  Adj. R-squared:    </th> <td>   0.050</td>\n",
              "</tr>\n",
              "<tr>\n",
              "  <th>Method:</th>             <td>Least Squares</td>  <th>  F-statistic:       </th> <td>   3.085</td>\n",
              "</tr>\n",
              "<tr>\n",
              "  <th>Date:</th>             <td>Tue, 31 May 2022</td> <th>  Prob (F-statistic):</th>  <td>0.0869</td> \n",
              "</tr>\n",
              "<tr>\n",
              "  <th>Time:</th>                 <td>01:37:57</td>     <th>  Log-Likelihood:    </th> <td> -391.35</td>\n",
              "</tr>\n",
              "<tr>\n",
              "  <th>No. Observations:</th>      <td>    41</td>      <th>  AIC:               </th> <td>   786.7</td>\n",
              "</tr>\n",
              "<tr>\n",
              "  <th>Df Residuals:</th>          <td>    39</td>      <th>  BIC:               </th> <td>   790.1</td>\n",
              "</tr>\n",
              "<tr>\n",
              "  <th>Df Model:</th>              <td>     1</td>      <th>                     </th>     <td> </td>   \n",
              "</tr>\n",
              "<tr>\n",
              "  <th>Covariance Type:</th>      <td>nonrobust</td>    <th>                     </th>     <td> </td>   \n",
              "</tr>\n",
              "</table>\n",
              "<table class=\"simpletable\">\n",
              "<tr>\n",
              "          <td></td>             <th>coef</th>     <th>std err</th>      <th>t</th>      <th>P>|t|</th>  <th>[0.025</th>    <th>0.975]</th>  \n",
              "</tr>\n",
              "<tr>\n",
              "  <th>const</th>             <td> 1.085e+04</td> <td> 3084.562</td> <td>    3.518</td> <td> 0.001</td> <td> 4612.949</td> <td> 1.71e+04</td>\n",
              "</tr>\n",
              "<tr>\n",
              "  <th>per_capita_income</th> <td>   -0.1424</td> <td>    0.081</td> <td>   -1.756</td> <td> 0.087</td> <td>   -0.306</td> <td>    0.022</td>\n",
              "</tr>\n",
              "</table>\n",
              "<table class=\"simpletable\">\n",
              "<tr>\n",
              "  <th>Omnibus:</th>       <td>12.474</td> <th>  Durbin-Watson:     </th> <td>   1.539</td>\n",
              "</tr>\n",
              "<tr>\n",
              "  <th>Prob(Omnibus):</th> <td> 0.002</td> <th>  Jarque-Bera (JB):  </th> <td>  12.628</td>\n",
              "</tr>\n",
              "<tr>\n",
              "  <th>Skew:</th>          <td> 1.290</td> <th>  Prob(JB):          </th> <td> 0.00181</td>\n",
              "</tr>\n",
              "<tr>\n",
              "  <th>Kurtosis:</th>      <td> 3.858</td> <th>  Cond. No.          </th> <td>2.17e+05</td>\n",
              "</tr>\n",
              "</table><br/><br/>Notes:<br/>[1] Standard Errors assume that the covariance matrix of the errors is correctly specified.<br/>[2] The condition number is large, 2.17e+05. This might indicate that there are<br/>strong multicollinearity or other numerical problems."
            ],
            "text/plain": [
              "<class 'statsmodels.iolib.summary.Summary'>\n",
              "\"\"\"\n",
              "                            OLS Regression Results                            \n",
              "==============================================================================\n",
              "Dep. Variable:                  crime   R-squared:                       0.073\n",
              "Model:                            OLS   Adj. R-squared:                  0.050\n",
              "Method:                 Least Squares   F-statistic:                     3.085\n",
              "Date:                Tue, 31 May 2022   Prob (F-statistic):             0.0869\n",
              "Time:                        01:37:57   Log-Likelihood:                -391.35\n",
              "No. Observations:                  41   AIC:                             786.7\n",
              "Df Residuals:                      39   BIC:                             790.1\n",
              "Df Model:                           1                                         \n",
              "Covariance Type:            nonrobust                                         \n",
              "=====================================================================================\n",
              "                        coef    std err          t      P>|t|      [0.025      0.975]\n",
              "-------------------------------------------------------------------------------------\n",
              "const              1.085e+04   3084.562      3.518      0.001    4612.949    1.71e+04\n",
              "per_capita_income    -0.1424      0.081     -1.756      0.087      -0.306       0.022\n",
              "==============================================================================\n",
              "Omnibus:                       12.474   Durbin-Watson:                   1.539\n",
              "Prob(Omnibus):                  0.002   Jarque-Bera (JB):               12.628\n",
              "Skew:                           1.290   Prob(JB):                      0.00181\n",
              "Kurtosis:                       3.858   Cond. No.                     2.17e+05\n",
              "==============================================================================\n",
              "\n",
              "Notes:\n",
              "[1] Standard Errors assume that the covariance matrix of the errors is correctly specified.\n",
              "[2] The condition number is large, 2.17e+05. This might indicate that there are\n",
              "strong multicollinearity or other numerical problems.\n",
              "\"\"\""
            ]
          },
          "execution_count": 58,
          "metadata": {},
          "output_type": "execute_result"
        }
      ],
      "source": [
        "result1_8 = sm.OLS(y, sm.add_constant(x)).fit()\n",
        "result1_8.summary()"
      ]
    },
    {
      "cell_type": "markdown",
      "id": "8556027e",
      "metadata": {
        "id": "8556027e"
      },
      "source": [
        "# 5) 다중 선형 회귀 - 재모델링"
      ]
    },
    {
      "cell_type": "code",
      "execution_count": null,
      "id": "12df175a",
      "metadata": {
        "id": "12df175a",
        "outputId": "5cebe468-965f-4c3a-fbfc-c85926c1fa93"
      },
      "outputs": [
        {
          "data": {
            "text/html": [
              "<table class=\"simpletable\">\n",
              "<caption>OLS Regression Results</caption>\n",
              "<tr>\n",
              "  <th>Dep. Variable:</th>          <td>crime</td>      <th>  R-squared:         </th> <td>   0.507</td>\n",
              "</tr>\n",
              "<tr>\n",
              "  <th>Model:</th>                   <td>OLS</td>       <th>  Adj. R-squared:    </th> <td>   0.481</td>\n",
              "</tr>\n",
              "<tr>\n",
              "  <th>Method:</th>             <td>Least Squares</td>  <th>  F-statistic:       </th> <td>   19.57</td>\n",
              "</tr>\n",
              "<tr>\n",
              "  <th>Date:</th>             <td>Tue, 31 May 2022</td> <th>  Prob (F-statistic):</th> <td>1.44e-06</td>\n",
              "</tr>\n",
              "<tr>\n",
              "  <th>Time:</th>                 <td>02:03:21</td>     <th>  Log-Likelihood:    </th> <td> -378.40</td>\n",
              "</tr>\n",
              "<tr>\n",
              "  <th>No. Observations:</th>      <td>    41</td>      <th>  AIC:               </th> <td>   762.8</td>\n",
              "</tr>\n",
              "<tr>\n",
              "  <th>Df Residuals:</th>          <td>    38</td>      <th>  BIC:               </th> <td>   767.9</td>\n",
              "</tr>\n",
              "<tr>\n",
              "  <th>Df Model:</th>              <td>     2</td>      <th>                     </th>     <td> </td>   \n",
              "</tr>\n",
              "<tr>\n",
              "  <th>Covariance Type:</th>      <td>nonrobust</td>    <th>                     </th>     <td> </td>   \n",
              "</tr>\n",
              "</table>\n",
              "<table class=\"simpletable\">\n",
              "<tr>\n",
              "          <td></td>            <th>coef</th>     <th>std err</th>      <th>t</th>      <th>P>|t|</th>  <th>[0.025</th>    <th>0.975]</th>  \n",
              "</tr>\n",
              "<tr>\n",
              "  <th>Intercept</th>        <td> -376.1713</td> <td> 1103.442</td> <td>   -0.341</td> <td> 0.735</td> <td>-2609.973</td> <td> 1857.630</td>\n",
              "</tr>\n",
              "<tr>\n",
              "  <th>elementaryschool</th> <td>  199.9726</td> <td>   40.180</td> <td>    4.977</td> <td> 0.000</td> <td>  118.632</td> <td>  281.313</td>\n",
              "</tr>\n",
              "<tr>\n",
              "  <th>OPH</th>              <td>    0.0093</td> <td>    0.021</td> <td>    0.443</td> <td> 0.660</td> <td>   -0.033</td> <td>    0.052</td>\n",
              "</tr>\n",
              "</table>\n",
              "<table class=\"simpletable\">\n",
              "<tr>\n",
              "  <th>Omnibus:</th>       <td> 6.964</td> <th>  Durbin-Watson:     </th> <td>   1.260</td>\n",
              "</tr>\n",
              "<tr>\n",
              "  <th>Prob(Omnibus):</th> <td> 0.031</td> <th>  Jarque-Bera (JB):  </th> <td>   5.672</td>\n",
              "</tr>\n",
              "<tr>\n",
              "  <th>Skew:</th>          <td> 0.829</td> <th>  Prob(JB):          </th> <td>  0.0587</td>\n",
              "</tr>\n",
              "<tr>\n",
              "  <th>Kurtosis:</th>      <td> 3.756</td> <th>  Cond. No.          </th> <td>1.54e+05</td>\n",
              "</tr>\n",
              "</table><br/><br/>Notes:<br/>[1] Standard Errors assume that the covariance matrix of the errors is correctly specified.<br/>[2] The condition number is large, 1.54e+05. This might indicate that there are<br/>strong multicollinearity or other numerical problems."
            ],
            "text/plain": [
              "<class 'statsmodels.iolib.summary.Summary'>\n",
              "\"\"\"\n",
              "                            OLS Regression Results                            \n",
              "==============================================================================\n",
              "Dep. Variable:                  crime   R-squared:                       0.507\n",
              "Model:                            OLS   Adj. R-squared:                  0.481\n",
              "Method:                 Least Squares   F-statistic:                     19.57\n",
              "Date:                Tue, 31 May 2022   Prob (F-statistic):           1.44e-06\n",
              "Time:                        02:03:21   Log-Likelihood:                -378.40\n",
              "No. Observations:                  41   AIC:                             762.8\n",
              "Df Residuals:                      38   BIC:                             767.9\n",
              "Df Model:                           2                                         \n",
              "Covariance Type:            nonrobust                                         \n",
              "====================================================================================\n",
              "                       coef    std err          t      P>|t|      [0.025      0.975]\n",
              "------------------------------------------------------------------------------------\n",
              "Intercept         -376.1713   1103.442     -0.341      0.735   -2609.973    1857.630\n",
              "elementaryschool   199.9726     40.180      4.977      0.000     118.632     281.313\n",
              "OPH                  0.0093      0.021      0.443      0.660      -0.033       0.052\n",
              "==============================================================================\n",
              "Omnibus:                        6.964   Durbin-Watson:                   1.260\n",
              "Prob(Omnibus):                  0.031   Jarque-Bera (JB):                5.672\n",
              "Skew:                           0.829   Prob(JB):                       0.0587\n",
              "Kurtosis:                       3.756   Cond. No.                     1.54e+05\n",
              "==============================================================================\n",
              "\n",
              "Notes:\n",
              "[1] Standard Errors assume that the covariance matrix of the errors is correctly specified.\n",
              "[2] The condition number is large, 1.54e+05. This might indicate that there are\n",
              "strong multicollinearity or other numerical problems.\n",
              "\"\"\""
            ]
          },
          "execution_count": 63,
          "metadata": {},
          "output_type": "execute_result"
        }
      ],
      "source": [
        "#p-value가 0.05보다 작은 유의미한 독립변수들만 모아서 다시 선형회귀분석\n",
        "#Elementary School-Street Light/ OPH-Population 간의 상관계수가 높은 편이라, 각각 하나씩 배제하고 계산 --> p-value가 작아지는 것 확인!\n",
        "\n",
        "re_result = sm.ols(formula = 'crime ~ elementaryschool+OPH', data = basic_removed).fit()\n",
        "re_result.summary()"
      ]
    },
    {
      "cell_type": "markdown",
      "id": "d9717327",
      "metadata": {
        "id": "d9717327"
      },
      "source": [
        "## 참고) 정규성(Normality) 검정"
      ]
    },
    {
      "cell_type": "code",
      "execution_count": null,
      "id": "076b1809",
      "metadata": {
        "id": "076b1809"
      },
      "outputs": [],
      "source": [
        "import matplotlib.pyplot as plt\n",
        "import scipy.stats as stats\n",
        "\n",
        "from scipy.stats import norm\n",
        "from statsmodels.formula.api import ols"
      ]
    },
    {
      "cell_type": "code",
      "execution_count": null,
      "id": "6ff7c383",
      "metadata": {
        "id": "6ff7c383",
        "outputId": "8095be55-ad22-4ca2-dae1-44ea6cd1cc90"
      },
      "outputs": [
        {
          "data": {
            "image/png": "[encoded data removed]",
            "text/plain": [
              "<Figure size 432x288 with 1 Axes>"
            ]
          },
          "execution_count": 47,
          "metadata": {},
          "output_type": "execute_result"
        },
        {
          "data": {
            "image/png": "[encoded data removed]",
            "text/plain": [
              "<Figure size 432x288 with 1 Axes>"
            ]
          },
          "metadata": {},
          "output_type": "display_data"
        }
      ],
      "source": [
        "sm.qqplot(basic_removed['OPH'], fit=True, line='45')"
      ]
    },
    {
      "cell_type": "markdown",
      "id": "f051c805",
      "metadata": {
        "id": "f051c805"
      },
      "source": [
        "## 참고) 예측값과 비교(train 이용)"
      ]
    },
    {
      "cell_type": "code",
      "execution_count": null,
      "id": "aabea906",
      "metadata": {
        "scrolled": true,
        "id": "aabea906",
        "outputId": "e280aa2c-f6ea-4095-971a-3d32a183178c"
      },
      "outputs": [
        {
          "data": {
            "image/png": "[encoded data removed]",
            "text/plain": [
              "<Figure size 432x288 with 1 Axes>"
            ]
          },
          "metadata": {},
          "output_type": "display_data"
        }
      ],
      "source": [
        "from sklearn.model_selection import train_test_split\n",
        "x = basic_removed[['per_capita_income','foreigner','park','cctv', 'policestation','population', 'elementaryschool', 'streetlight', 'OPH']].values\n",
        "y = basic_removed[['crime']]\n",
        "x_train, x_test, y_train, y_test = train_test_split(x, y,train_size=0.7, test_size=0.3)\n",
        "\n",
        "mlr = LinearRegression()\n",
        "mlr.fit(x_train,y_train)\n",
        "region_pre = [[45000, 9500, 80, 2500, 18, 25000,18,7500,35000]]\n",
        "region_pred = mlr.predict(region_pre)\n",
        "y_predict = mlr.predict(x_test)\n",
        "\n",
        "plt.scatter(y_test,y_predict,c= 'pink', alpha=1.0)\n",
        "plt.xlabel(\"the number of actual crime\")\n",
        "plt.ylabel(\"the number of predicted crime\")\n",
        "plt.title(\"multiple linear regression\")\n",
        "plt.show()"
      ]
    }
  ],
  "metadata": {
    "kernelspec": {
      "display_name": "Python 3 (ipykernel)",
      "language": "python",
      "name": "python3"
    },
    "language_info": {
      "codemirror_mode": {
        "name": "ipython",
        "version": 3
      },
      "file_extension": ".py",
      "mimetype": "text/x-python",
      "name": "python",
      "nbconvert_exporter": "python",
      "pygments_lexer": "ipython3",
      "version": "3.9.7"
    },
    "colab": {
      "provenance": [],
      "include_colab_link": true
    }
  },
  "nbformat": 4,
  "nbformat_minor": 5
}